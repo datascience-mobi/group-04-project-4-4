{
 "cells": [
  {
   "cell_type": "code",
   "execution_count": 43,
   "metadata": {},
   "outputs": [],
   "source": [
    "import random\n",
    "import math\n",
    "from statistics import mean\n",
    "from sklearn.datasets.samples_generator import make_blobs\n",
    "import matplotlib.pyplot as plt\n",
    "import urllib.request as url\n",
    "import numpy as np\n",
    "import scanpy as sc\n",
    "import pandas as pd\n",
    "import tarfile\n",
    "import csv\n",
    "from numba import njit, jit\n",
    "from sklearn.base import BaseEstimator, ClusterMixin, TransformerMixin\n",
    "\n",
    "\n",
    "class Kmeans(BaseEstimator, ClusterMixin, TransformerMixin):               # Input: processed dataset, Output: clustered data (kmeans, minibatch, kmeans++)\n",
    "    def __init__(self, inits=10, k=8, maxit=300, method=\"++\"):\n",
    "        \n",
    "        self.labels_ = None\n",
    "        self.cluster_centers_ = None\n",
    "        self._inits = inits\n",
    "        self._k = k\n",
    "        self._maxit = maxit\n",
    "        self._method = method\n",
    "       # dot = np.random.choice(range(len(self._data)), self._k, replace=False)\n",
    "        #self._clusters = self._data[dot]\n",
    "   \n",
    "\n",
    "    def fit(self,data):\n",
    "        self._data = data\n",
    "        best_clust = float('inf')\n",
    "        \n",
    "        for i in (range(self._inits)):\n",
    "            \n",
    "            if self._method == \"rng\": # random centers are choosen\n",
    "                #print(\"rng\")\n",
    "                dot = np.random.choice(range(len(self._data)), self._k, replace=False)\n",
    "                self.cluster_centers_ = self._data[dot]\n",
    "            elif self._method == \"++\": # kmeans++ is initiated\n",
    "                #print(\"++\")\n",
    "                dot = np.random.choice(len(self._data), replace=False) # random startpunkt\n",
    "                clusters = np.array([self._data[dot]])\n",
    "                pointer = np.array([])\n",
    "                for i in range (self._k-1):\n",
    "                    D = np.array([])\n",
    "            \n",
    "                    for j in range (len(self._data)):\n",
    "                        D = np.append(D,np.min(np.sum((self._data[j]-clusters)**2, axis = 1)))\n",
    "                \n",
    "                    pointer = np.append(pointer, D, axis = 0) \n",
    "            \n",
    "                    p = D/np.sum(D)\n",
    "                    cummulative_p = np.cumsum(p)\n",
    "            \n",
    "                    r = random.random()\n",
    "                    ind = np.where(cummulative_p >= r)[0][0]\n",
    "            \n",
    "                    clusters = np.append(clusters,[self._data[ind]], axis = 0)\n",
    "                self.cluster_centers_ = clusters\n",
    "            else:\n",
    "                raise AttributeError(\"No valid method\")\n",
    "            \n",
    "            for i in range(self._maxit):\n",
    "                clusters = np.expand_dims(self.cluster_centers_, axis=1)\n",
    "                data = np.expand_dims(self._data, axis=0)\n",
    "                eucl = np.linalg.norm(clusters-data, axis=2) # euclidean dist by using integrated numpy function\n",
    "                self.labels_ = np.argmin(eucl, axis = 0)\n",
    "                for i in range(self._k): # range of clusters\n",
    "                    position = np.where(self.labels_ == i) # position im array bestimmen und dann die entspechenden punkte aus data auslesen\n",
    "                    self.cluster_centers_[i] = self._data[position].mean(axis = 0)\n",
    "                    #out = pd.DataFrame(data[np.argwhere(dist == i)].squeeze())\n",
    "                overall_quality = np.sum(np.min(eucl.T, axis=1))\n",
    "                if overall_quality < best_clust:\n",
    "                    best_clust = overall_quality\n",
    "                    best_dist = self.labels_\n",
    "                    best_centers = self.cluster_centers_\n",
    "            self.cluster_centers_ = best_centers\n",
    "            self.labels_ = best_dist\n",
    "                \n",
    "        return self\n",
    "   \n",
    "    \n",
    "    def predict(self, X):\n",
    "        clusters = np.expand_dims(self.cluster_centers_, axis=1)\n",
    "        data = np.expand_dims(X, axis=0)\n",
    "        eucl = np.linalg.norm(clusters-data, axis=2) # euclidean dist by using integrated numpy function\n",
    "        self.labels_ = np.argmin(eucl, axis = 0)\n",
    "        return self.labels_ #returns the cluster with minimum distance\n",
    "    \n",
    "    def transform(self, X):\n",
    "        clusters = np.expand_dims(self.cluster_centers_, axis=1)\n",
    "        data = np.expand_dims(X, axis=0)\n",
    "        eucl = np.linalg.norm(clusters-data, axis=2)\n",
    "        return eucl.T\n",
    "        \n",
    "    '''\n",
    "        #@jit(nopython=True)\n",
    "    def fit(self):\n",
    "        for i in range(k): # range of clusters\n",
    "            position = np.where(self._dist == i) # position im array bestimmen und dann die entspechenden punkte aus data auslesen\n",
    "            self._clusters[i] = self._data[position].mean(axis = 0)\n",
    "                #out = pd.DataFrame(data[np.argwhere(dist == i)].squeeze())\n",
    "            return self._clusters # return new clusters  \n",
    "    def kmeans(self, inits=None, k=None, maxit=None):   # the original\n",
    "        if inits is None:\n",
    "            inits = self._inits\n",
    "        if k is None:\n",
    "            k = self._k\n",
    "        if maxit is None:\n",
    "            maxit = self._maxit\n",
    "    \n",
    "        clusters = create_clusters(self._data, k)\n",
    "        for i in range(maxit):\n",
    "            dist = distances(clusters,self._data)\n",
    "            clusters = fit(self._data,dist,k)\n",
    "        \n",
    "        self._clusters = clusters\n",
    "        self._dist = dist\n",
    "        '''"
   ]
  },
  {
   "cell_type": "code",
   "execution_count": 35,
   "metadata": {},
   "outputs": [],
   "source": [
    "import random\n",
    "import math\n",
    "from statistics import mean\n",
    "from sklearn.datasets.samples_generator import make_blobs\n",
    "\n",
    "df_rand = pd.DataFrame(np.random.randint(0,100,size=(2, 100)), index =(\"PC1\",\"PC2\"))\n",
    "X, y_true = make_blobs(n_samples=600, centers=8,\n",
    "                       cluster_std=0.60, random_state=0)\n",
    "def plot(data, dist, clusters,k):\n",
    "    for i in range(k):\n",
    "        graph = pd.DataFrame(data[np.argwhere(dist == i)].squeeze())\n",
    "        center = pd.DataFrame(clusters[i]).T\n",
    "        #print(\"Cluster\"+ str(i) +  \" -- Assigned Points \\n\" + str(graph))\n",
    "        plt.plot(graph[0], graph[1], \"o\")\n",
    "        plt.plot(center[0],center[1], \"kx\")\n",
    "    plt.show"
   ]
  },
  {
   "cell_type": "code",
   "execution_count": 42,
   "metadata": {},
   "outputs": [
    {
     "name": "stdout",
     "output_type": "stream",
     "text": [
      "rng\n",
      "rng\n",
      "rng\n",
      "rng\n",
      "rng\n",
      "rng\n",
      "rng\n",
      "rng\n",
      "rng\n",
      "rng\n"
     ]
    },
    {
     "data": {
      "text/plain": [
       "Kmeans(inits=None, k=None, maxit=None, method=None)"
      ]
     },
     "execution_count": 42,
     "metadata": {},
     "output_type": "execute_result"
    }
   ],
   "source": [
    "test = Kmeans(method=\"rng\")\n",
    "test.fit(X)"
   ]
  },
  {
   "cell_type": "code",
   "execution_count": 40,
   "metadata": {},
   "outputs": [
    {
     "data": {
      "image/png": "[encoded data removed]",
      "text/plain": [
       "<Figure size 432x288 with 1 Axes>"
      ]
     },
     "metadata": {
      "needs_background": "light"
     },
     "output_type": "display_data"
    }
   ],
   "source": [
    "plot(X,test.labels_,test.cluster_centers_,8)"
   ]
  },
  {
   "cell_type": "code",
   "execution_count": 30,
   "metadata": {},
   "outputs": [
    {
     "data": {
      "text/plain": [
       "array([[ 9.24845791, -2.39615122],\n",
       "       [ 1.45084308,  8.59867783],\n",
       "       [ 1.98361742,  0.85657898],\n",
       "       [-1.39894034,  7.75367979],\n",
       "       [ 0.93775178,  4.41581079],\n",
       "       [ 5.80672004,  0.49923519],\n",
       "       [-1.5859099 ,  2.82252793],\n",
       "       [-8.4225089 , -8.29757349]])"
      ]
     },
     "execution_count": 30,
     "metadata": {},
     "output_type": "execute_result"
    }
   ],
   "source": [
    "test.cluster_centers_"
   ]
  },
  {
   "cell_type": "code",
   "execution_count": 44,
   "metadata": {},
   "outputs": [],
   "source": [
    "import wwdk"
   ]
  },
  {
   "cell_type": "code",
   "execution_count": null,
   "metadata": {},
   "outputs": [],
   "source": []
  }
 ],
 "metadata": {
  "kernelspec": {
   "display_name": "Python 3",
   "language": "python",
   "name": "python3"
  },
  "language_info": {
   "codemirror_mode": {
    "name": "ipython",
    "version": 3
   },
   "file_extension": ".py",
   "mimetype": "text/x-python",
   "name": "python",
   "nbconvert_exporter": "python",
   "pygments_lexer": "ipython3",
   "version": "3.7.3"
  }
 },
 "nbformat": 4,
 "nbformat_minor": 2
}
