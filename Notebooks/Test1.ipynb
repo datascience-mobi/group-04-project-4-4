{
 "cells": [
  {
   "cell_type": "code",
   "execution_count": 1,
   "metadata": {},
   "outputs": [],
   "source": [
    "### importieren\n",
    "%matplotlib inline\n",
    "import matplotlib.pyplot as plt\n",
    "import seaborn as sns; sns.set()  # for plot styling\n",
    "import numpy as np\n",
    "from sklearn.datasets.samples_generator import make_blobs #random data generator\n",
    "import pandas as pd\n",
    "import time"
   ]
  },
  {
   "cell_type": "code",
   "execution_count": 2,
   "metadata": {},
   "outputs": [
    {
     "data": {
      "image/png": "[encoded data removed]",
      "text/plain": [
       "<Figure size 432x288 with 1 Axes>"
      ]
     },
     "metadata": {
      "needs_background": "light"
     },
     "output_type": "display_data"
    }
   ],
   "source": [
    "#generate data\n",
    "X, y_true = make_blobs(n_samples=100, centers=8,\n",
    "                       cluster_std=0.60, random_state=0, )\n",
    "plt.scatter(X[:, 0], X[:, 1], s=50);"
   ]
  },
  {
   "cell_type": "code",
   "execution_count": 4,
   "metadata": {},
   "outputs": [],
   "source": [
    "blubb = pd.DataFrame(X)"
   ]
  },
  {
   "cell_type": "code",
   "execution_count": 5,
   "metadata": {},
   "outputs": [
    {
     "data": {
      "text/html": [
       "<div>\n",
       "<style scoped>\n",
       "    .dataframe tbody tr th:only-of-type {\n",
       "        vertical-align: middle;\n",
       "    }\n",
       "\n",
       "    .dataframe tbody tr th {\n",
       "        vertical-align: top;\n",
       "    }\n",
       "\n",
       "    .dataframe thead th {\n",
       "        text-align: right;\n",
       "    }\n",
       "</style>\n",
       "<table border=\"1\" class=\"dataframe\">\n",
       "  <thead>\n",
       "    <tr style=\"text-align: right;\">\n",
       "      <th></th>\n",
       "      <th>0</th>\n",
       "      <th>1</th>\n",
       "      <th>2</th>\n",
       "      <th>3</th>\n",
       "      <th>4</th>\n",
       "      <th>5</th>\n",
       "      <th>6</th>\n",
       "      <th>7</th>\n",
       "      <th>8</th>\n",
       "      <th>9</th>\n",
       "      <th>...</th>\n",
       "      <th>90</th>\n",
       "      <th>91</th>\n",
       "      <th>92</th>\n",
       "      <th>93</th>\n",
       "      <th>94</th>\n",
       "      <th>95</th>\n",
       "      <th>96</th>\n",
       "      <th>97</th>\n",
       "      <th>98</th>\n",
       "      <th>99</th>\n",
       "    </tr>\n",
       "  </thead>\n",
       "  <tbody>\n",
       "    <tr>\n",
       "      <th>0</th>\n",
       "      <td>2.073709</td>\n",
       "      <td>1.674674</td>\n",
       "      <td>9.619210</td>\n",
       "      <td>5.044956</td>\n",
       "      <td>1.426136</td>\n",
       "      <td>1.303590</td>\n",
       "      <td>5.934505</td>\n",
       "      <td>-8.107482</td>\n",
       "      <td>1.086929</td>\n",
       "      <td>-8.033171</td>\n",
       "      <td>...</td>\n",
       "      <td>0.443599</td>\n",
       "      <td>1.895938</td>\n",
       "      <td>0.698261</td>\n",
       "      <td>-0.679905</td>\n",
       "      <td>9.499111</td>\n",
       "      <td>-2.225994</td>\n",
       "      <td>-0.843264</td>\n",
       "      <td>-2.071283</td>\n",
       "      <td>1.651791</td>\n",
       "      <td>9.676632</td>\n",
       "    </tr>\n",
       "    <tr>\n",
       "      <th>1</th>\n",
       "      <td>8.702098</td>\n",
       "      <td>0.680019</td>\n",
       "      <td>-2.456149</td>\n",
       "      <td>0.300948</td>\n",
       "      <td>0.045653</td>\n",
       "      <td>1.364158</td>\n",
       "      <td>0.958917</td>\n",
       "      <td>-8.537265</td>\n",
       "      <td>0.770019</td>\n",
       "      <td>-8.067083</td>\n",
       "      <td>...</td>\n",
       "      <td>3.115309</td>\n",
       "      <td>5.185403</td>\n",
       "      <td>8.543232</td>\n",
       "      <td>7.742454</td>\n",
       "      <td>-2.990810</td>\n",
       "      <td>3.458378</td>\n",
       "      <td>2.176987</td>\n",
       "      <td>2.949049</td>\n",
       "      <td>0.681932</td>\n",
       "      <td>-2.086693</td>\n",
       "    </tr>\n",
       "  </tbody>\n",
       "</table>\n",
       "<p>2 rows × 100 columns</p>\n",
       "</div>"
      ],
      "text/plain": [
       "         0         1         2         3         4         5         6   \\\n",
       "0  2.073709  1.674674  9.619210  5.044956  1.426136  1.303590  5.934505   \n",
       "1  8.702098  0.680019 -2.456149  0.300948  0.045653  1.364158  0.958917   \n",
       "\n",
       "         7         8         9   ...        90        91        92        93  \\\n",
       "0 -8.107482  1.086929 -8.033171  ...  0.443599  1.895938  0.698261 -0.679905   \n",
       "1 -8.537265  0.770019 -8.067083  ...  3.115309  5.185403  8.543232  7.742454   \n",
       "\n",
       "         94        95        96        97        98        99  \n",
       "0  9.499111 -2.225994 -0.843264 -2.071283  1.651791  9.676632  \n",
       "1 -2.990810  3.458378  2.176987  2.949049  0.681932 -2.086693  \n",
       "\n",
       "[2 rows x 100 columns]"
      ]
     },
     "execution_count": 5,
     "metadata": {},
     "output_type": "execute_result"
    }
   ],
   "source": [
    "blubb.T"
   ]
  },
  {
   "cell_type": "code",
   "execution_count": 6,
   "metadata": {},
   "outputs": [],
   "source": [
    "df_rand = pd.DataFrame(np.random.randint(0,100,size=(2, 100)), index =(\"PC1\",\"PC2\"))"
   ]
  },
  {
   "cell_type": "code",
   "execution_count": 7,
   "metadata": {},
   "outputs": [
    {
     "data": {
      "text/html": [
       "<div>\n",
       "<style scoped>\n",
       "    .dataframe tbody tr th:only-of-type {\n",
       "        vertical-align: middle;\n",
       "    }\n",
       "\n",
       "    .dataframe tbody tr th {\n",
       "        vertical-align: top;\n",
       "    }\n",
       "\n",
       "    .dataframe thead th {\n",
       "        text-align: right;\n",
       "    }\n",
       "</style>\n",
       "<table border=\"1\" class=\"dataframe\">\n",
       "  <thead>\n",
       "    <tr style=\"text-align: right;\">\n",
       "      <th></th>\n",
       "      <th>0</th>\n",
       "      <th>1</th>\n",
       "      <th>2</th>\n",
       "      <th>3</th>\n",
       "      <th>4</th>\n",
       "      <th>5</th>\n",
       "      <th>6</th>\n",
       "      <th>7</th>\n",
       "      <th>8</th>\n",
       "      <th>9</th>\n",
       "      <th>...</th>\n",
       "      <th>90</th>\n",
       "      <th>91</th>\n",
       "      <th>92</th>\n",
       "      <th>93</th>\n",
       "      <th>94</th>\n",
       "      <th>95</th>\n",
       "      <th>96</th>\n",
       "      <th>97</th>\n",
       "      <th>98</th>\n",
       "      <th>99</th>\n",
       "    </tr>\n",
       "  </thead>\n",
       "  <tbody>\n",
       "    <tr>\n",
       "      <th>PC1</th>\n",
       "      <td>86</td>\n",
       "      <td>65</td>\n",
       "      <td>36</td>\n",
       "      <td>94</td>\n",
       "      <td>82</td>\n",
       "      <td>97</td>\n",
       "      <td>42</td>\n",
       "      <td>66</td>\n",
       "      <td>15</td>\n",
       "      <td>43</td>\n",
       "      <td>...</td>\n",
       "      <td>16</td>\n",
       "      <td>90</td>\n",
       "      <td>76</td>\n",
       "      <td>25</td>\n",
       "      <td>47</td>\n",
       "      <td>47</td>\n",
       "      <td>6</td>\n",
       "      <td>91</td>\n",
       "      <td>79</td>\n",
       "      <td>82</td>\n",
       "    </tr>\n",
       "    <tr>\n",
       "      <th>PC2</th>\n",
       "      <td>30</td>\n",
       "      <td>25</td>\n",
       "      <td>53</td>\n",
       "      <td>83</td>\n",
       "      <td>29</td>\n",
       "      <td>67</td>\n",
       "      <td>83</td>\n",
       "      <td>27</td>\n",
       "      <td>74</td>\n",
       "      <td>51</td>\n",
       "      <td>...</td>\n",
       "      <td>55</td>\n",
       "      <td>9</td>\n",
       "      <td>73</td>\n",
       "      <td>86</td>\n",
       "      <td>33</td>\n",
       "      <td>40</td>\n",
       "      <td>45</td>\n",
       "      <td>33</td>\n",
       "      <td>63</td>\n",
       "      <td>6</td>\n",
       "    </tr>\n",
       "  </tbody>\n",
       "</table>\n",
       "<p>2 rows × 100 columns</p>\n",
       "</div>"
      ],
      "text/plain": [
       "     0   1   2   3   4   5   6   7   8   9   ...  90  91  92  93  94  95  96  \\\n",
       "PC1  86  65  36  94  82  97  42  66  15  43  ...  16  90  76  25  47  47   6   \n",
       "PC2  30  25  53  83  29  67  83  27  74  51  ...  55   9  73  86  33  40  45   \n",
       "\n",
       "     97  98  99  \n",
       "PC1  91  79  82  \n",
       "PC2  33  63   6  \n",
       "\n",
       "[2 rows x 100 columns]"
      ]
     },
     "execution_count": 7,
     "metadata": {},
     "output_type": "execute_result"
    }
   ],
   "source": [
    "df_rand"
   ]
  },
  {
   "cell_type": "markdown",
   "metadata": {},
   "source": [
    "### Attempt 2"
   ]
  },
  {
   "cell_type": "code",
   "execution_count": 8,
   "metadata": {},
   "outputs": [
    {
     "name": "stderr",
     "output_type": "stream",
     "text": [
      "/Users/benedict/Desktop/Programmieren/Bioinfoprojekt/project-04-group-04/WWDK_Package/Cluster.py:70: RuntimeWarning: Mean of empty slice.\n",
      "  self.cluster_centers_[i] = self._data[position].mean(axis = 0)\n",
      "/anaconda3/envs/igem/lib/python3.6/site-packages/numpy/core/_methods.py:78: RuntimeWarning: invalid value encountered in true_divide\n",
      "  ret, rcount, out=ret, casting='unsafe', subok=False)\n"
     ]
    },
    {
     "name": "stdout",
     "output_type": "stream",
     "text": [
      "0.5066299438476562\n",
      "0.5076370239257812\n",
      "0.5178298950195312\n",
      "0.523291826248169\n",
      "0.4948139190673828\n",
      "0.5111751556396484\n",
      "0.5215730667114258\n",
      "0.49295783042907715\n",
      "0.5344719886779785\n",
      "0.5643830299377441\n"
     ]
    },
    {
     "data": {
      "text/plain": [
       "5.1747636795043945"
      ]
     },
     "execution_count": 8,
     "metadata": {},
     "output_type": "execute_result"
    }
   ],
   "source": [
    "import WWDK_Package.Cluster as cl\n",
    "liste = []\n",
    "lib = cl.Kmeans(inits=10, method=\"rng\")\n",
    "for i in range(10):\n",
    "    start = time.time()\n",
    "    lib.fit(X)\n",
    "    end = time.time()\n",
    "    liste.append(end-start)\n",
    "    print(end-start)\n",
    "np.sum(liste)"
   ]
  },
  {
   "cell_type": "code",
   "execution_count": 8,
   "metadata": {},
   "outputs": [
    {
     "data": {
      "text/plain": [
       "(8, 1, 2)"
      ]
     },
     "execution_count": 8,
     "metadata": {},
     "output_type": "execute_result"
    }
   ],
   "source": [
    "clusters = np.expand_dims(lib.cluster_centers_, axis=1)\n",
    "clusters.shape"
   ]
  },
  {
   "cell_type": "code",
   "execution_count": 5,
   "metadata": {},
   "outputs": [],
   "source": [
    "def plot(data, dist, clusters,k):\n",
    "    for i in range(k):\n",
    "        graph = pd.DataFrame(data[np.argwhere(dist == i)].squeeze())\n",
    "        center = pd.DataFrame(clusters[i]).T\n",
    "        #print(\"Cluster\"+ str(i) +  \" -- Assigned Points \\n\" + str(graph))\n",
    "        plt.plot(graph[0], graph[1], \"o\")\n",
    "        plt.plot(center[0],center[1], \"kx\")\n",
    "    plt.show"
   ]
  },
  {
   "cell_type": "code",
   "execution_count": 10,
   "metadata": {},
   "outputs": [
    {
     "data": {
      "image/png": "[encoded data removed]",
      "text/plain": [
       "<Figure size 432x288 with 1 Axes>"
      ]
     },
     "metadata": {
      "needs_background": "light"
     },
     "output_type": "display_data"
    }
   ],
   "source": [
    "plot(X, lib.labels_, lib.cluster_centers_,8)"
   ]
  },
  {
   "cell_type": "markdown",
   "metadata": {},
   "source": [
    "## Numba Acceleration (hopefully)"
   ]
  },
  {
   "cell_type": "code",
   "execution_count": 15,
   "metadata": {},
   "outputs": [],
   "source": [
    "import random\n",
    "import math\n",
    "from statistics import mean\n",
    "from sklearn.datasets.samples_generator import make_blobs\n",
    "import matplotlib.pyplot as plt\n",
    "import urllib.request as url\n",
    "import numpy as np\n",
    "import scanpy as sc\n",
    "import pandas as pd\n",
    "import tarfile\n",
    "import csv\n",
    "import numba\n",
    "from sklearn.base import BaseEstimator, ClusterMixin, TransformerMixin\n",
    "\n",
    "\n",
    "class Kmeans(BaseEstimator, ClusterMixin, TransformerMixin):   # Input: processed dataset, Output: clustered data (kmeans, kmeans++)\n",
    "    def __init__(self, inits=10, k=8, maxit=300, method=\"++\"):\n",
    "        \n",
    "        self.labels_ = None\n",
    "        self.cluster_centers_ = None\n",
    "        self._inits = inits\n",
    "        self._k = k\n",
    "        self._maxit = maxit\n",
    "        self._method = method\n",
    "       # dot = np.random.choice(range(len(self._data)), self._k, replace=False)\n",
    "        #self._clusters = self._data[dot]\n",
    "   \n",
    "    def fit(self,data):\n",
    "        self._data = data\n",
    "        output = self.complicated(self._data, self._k, self._inits, self._maxit, self._method)\n",
    "        self.cluster_centers_ = output[0]\n",
    "        self.labels_ = output[1]\n",
    "        \n",
    "        return self\n",
    "    \n",
    "    @staticmethod\n",
    "    @numba.jit(nopython=True) \n",
    "    def complicated(data, k, inits, maxit, method):\n",
    "        \n",
    "        #best_clust = float('inf')\n",
    "        best_clust = 10000\n",
    "        \n",
    "        for i in (range(inits)):\n",
    "            \n",
    "            if method == \"rng\": # random centers are choosen\n",
    "                #print(\"rng\")\n",
    "                dot = np.random.choice(len(data), k, replace=False)\n",
    "                cluster_centers_ = data[dot]\n",
    "                \n",
    "                '''elif method == \"++\": # kmeans++ is initiated\n",
    "                    #print(\"++\")\n",
    "                    dot2 = np.random.choice(len(data), replace=False) # random startpunkt\n",
    "                    clusters = np.array([data[dot2]])\n",
    "                    pointer = np.array([])\n",
    "                    for i in range (k-1):\n",
    "                        D = np.array([])\n",
    "\n",
    "                        for j in range (len(data)):\n",
    "                            D = np.append(D,np.min(np.sum((data[j]-clusters)**2, axis = 1)))\n",
    "\n",
    "                        pointer = np.append(pointer, D, axis = 0) \n",
    "\n",
    "                        p = D/np.sum(D)\n",
    "                        cummulative_p = np.cumsum(p)\n",
    "\n",
    "                        r = random.random()\n",
    "                        ind = np.where(cummulative_p >= r)[0][0]\n",
    "\n",
    "                        clusters = np.append(clusters,[data[ind]], axis = 0)\n",
    "                    cluster_centers_ = clusters'''\n",
    "            \n",
    "            else:\n",
    "                raise AttributeError(\"No valid method\")\n",
    "            \n",
    "            for i in range(maxit):\n",
    "                \n",
    "                eucl = np.zeros((k,len(data)))\n",
    "                for i in range(k):\n",
    "                    for j in range(len(data)):\n",
    "                        eucl[(i-1,j-1)] = np.linalg.norm(cluster_centers_[i-1]-data[j-1]) # euclidean dist by using integrated numpy function\n",
    "                labels_ = np.zeros(len(data))\n",
    "                for i in range(len(data)):\n",
    "                    labels_[i] = np.argmin(eucl[:,i])\n",
    "                for i in range(k): # range of clusters\n",
    "                    position = np.where(labels_ == i) # position im array bestimmen und dann die entspechenden punkte aus data auslesen\n",
    "                    #cluster_centers_ = np.zeros((k,1,2))\n",
    "                    x_pos = np.mean(data[position[0], 0])\n",
    "                    y_pos = data[position[0], 1].mean()\n",
    "                    cluster_centers_[i] = np.array((x_pos,y_pos))\n",
    "                    #out = pd.DataFrame(data[np.argwhere(dist == i)].squeeze())\n",
    "                overall_quality = 0\n",
    "                for i in range(len(data)):\n",
    "                    min_val = np.min(eucl.T[i])\n",
    "                    overall_quality = overall_quality + min_val\n",
    "                if overall_quality < best_clust:\n",
    "                    best_clust = overall_quality\n",
    "                    best_dist = labels_\n",
    "                    best_centers = cluster_centers_\n",
    "            cluster_centers_ = best_centers\n",
    "            labels_ = best_dist\n",
    "                \n",
    "        return cluster_centers_, labels_\n",
    "   \n",
    "    \n",
    "    def predict(self, X):\n",
    "        clusters = np.expand_dims(self.cluster_centers_, axis=1)\n",
    "        data = np.expand_dims(X, axis=0)\n",
    "        eucl = np.linalg.norm(clusters-data, axis=2) # euclidean dist by using integrated numpy function\n",
    "        self.labels_ = np.argmin(eucl, axis = 0)\n",
    "        return self.labels_ #returns the cluster with minimum distance\n",
    "    \n",
    "    def transform(self, X):\n",
    "        clusters = np.expand_dims(self.cluster_centers_, axis=1)\n",
    "        data = np.expand_dims(X, axis=0)\n",
    "        eucl = np.linalg.norm(clusters-data, axis=2)\n",
    "        return eucl.T"
   ]
  },
  {
   "cell_type": "code",
   "execution_count": 7,
   "metadata": {},
   "outputs": [
    {
     "data": {
      "text/plain": [
       "Kmeans(inits=None, k=None, maxit=None, method=None)"
      ]
     },
     "execution_count": 7,
     "metadata": {},
     "output_type": "execute_result"
    }
   ],
   "source": [
    "X_kmeans = Kmeans(method=\"rng\")\n",
    "X_kmeans.fit(X)"
   ]
  },
  {
   "cell_type": "code",
   "execution_count": 8,
   "metadata": {},
   "outputs": [
    {
     "data": {
      "image/png": "[encoded data removed]",
      "text/plain": [
       "<Figure size 432x288 with 1 Axes>"
      ]
     },
     "metadata": {},
     "output_type": "display_data"
    }
   ],
   "source": [
    "plot(X, X_kmeans.labels_, X_kmeans.cluster_centers_,8)\n"
   ]
  },
  {
   "cell_type": "code",
   "execution_count": 14,
   "metadata": {},
   "outputs": [
    {
     "name": "stdout",
     "output_type": "stream",
     "text": [
      "1.518367052078247\n",
      "1.5065698623657227\n",
      "1.5087900161743164\n",
      "1.5146517753601074\n",
      "1.5078201293945312\n",
      "1.510308027267456\n",
      "1.520320177078247\n",
      "1.5097401142120361\n",
      "1.5153169631958008\n",
      "1.503438949584961\n"
     ]
    },
    {
     "data": {
      "text/plain": [
       "15.115323066711426"
      ]
     },
     "execution_count": 14,
     "metadata": {},
     "output_type": "execute_result"
    }
   ],
   "source": [
    "liste = []\n",
    "X_kmeans = Kmeans(inits=10,method=\"rng\")\n",
    "for i in range(10):\n",
    "    start = time.time()\n",
    "    X_kmeans.fit(X)\n",
    "    end = time.time()\n",
    "    liste.append(end-start)\n",
    "    print(end-start)\n",
    "np.sum(liste)"
   ]
  },
  {
   "cell_type": "code",
   "execution_count": 14,
   "metadata": {},
   "outputs": [],
   "source": [
    "best_clust = float('inf')"
   ]
  },
  {
   "cell_type": "code",
   "execution_count": 15,
   "metadata": {},
   "outputs": [],
   "source": [
    "eucl = np.zeros((8,100))"
   ]
  },
  {
   "cell_type": "code",
   "execution_count": 16,
   "metadata": {},
   "outputs": [],
   "source": [
    "clusters = np.expand_dims(lib.cluster_centers_, axis=1)\n",
    "ex_data = np.expand_dims(X, axis=0)\n",
    "eucl = np.zeros((8,100))\n",
    "for i in range(8):\n",
    "    for j in range(len(X)):\n",
    "        eucl[(i-1,j-1)] = np.linalg.norm(lib.cluster_centers_[i-1]-X[j-1])\n",
    "      \n"
   ]
  },
  {
   "cell_type": "code",
   "execution_count": 17,
   "metadata": {},
   "outputs": [],
   "source": [
    "clusters = np.expand_dims(lib.cluster_centers_, axis=1)\n",
    "ex_data = np.expand_dims(X, axis=0)\n",
    "eucl = np.linalg.norm(clusters-ex_data, axis=2)"
   ]
  },
  {
   "cell_type": "code",
   "execution_count": 18,
   "metadata": {},
   "outputs": [],
   "source": [
    "labels_ = np.zeros(100)\n",
    "for i in range(100):\n",
    "    labels_[i] = np.argmin(eucl[:,i])"
   ]
  },
  {
   "cell_type": "code",
   "execution_count": 19,
   "metadata": {},
   "outputs": [],
   "source": [
    "position = np.where(labels_ == 0)"
   ]
  },
  {
   "cell_type": "code",
   "execution_count": 20,
   "metadata": {},
   "outputs": [],
   "source": [
    "cluster_centers = np.zeros((8,1,2))\n",
    "x = X[position, 0].mean()\n",
    "y = X[position, 1].mean()\n",
    "cluster_centers[0] = np.array((x,y))"
   ]
  },
  {
   "cell_type": "code",
   "execution_count": 21,
   "metadata": {},
   "outputs": [
    {
     "data": {
      "text/plain": [
       "array([[[-8.30683493, -8.31236453]],\n",
       "\n",
       "       [[ 0.        ,  0.        ]],\n",
       "\n",
       "       [[ 0.        ,  0.        ]],\n",
       "\n",
       "       [[ 0.        ,  0.        ]],\n",
       "\n",
       "       [[ 0.        ,  0.        ]],\n",
       "\n",
       "       [[ 0.        ,  0.        ]],\n",
       "\n",
       "       [[ 0.        ,  0.        ]],\n",
       "\n",
       "       [[ 0.        ,  0.        ]]])"
      ]
     },
     "execution_count": 21,
     "metadata": {},
     "output_type": "execute_result"
    }
   ],
   "source": [
    "cluster_centers"
   ]
  },
  {
   "cell_type": "code",
   "execution_count": 28,
   "metadata": {},
   "outputs": [
    {
     "data": {
      "text/plain": [
       "70.38401459879539"
      ]
     },
     "execution_count": 28,
     "metadata": {},
     "output_type": "execute_result"
    }
   ],
   "source": [
    "overall_quality = np.sum(np.min(eucl.T, axis=1))\n",
    "overall_quality"
   ]
  },
  {
   "cell_type": "code",
   "execution_count": 24,
   "metadata": {},
   "outputs": [
    {
     "data": {
      "text/plain": [
       "array([0.95199605, 0.12622525, 0.53191334, 0.85845568, 0.77248717,\n",
       "       0.65222373, 0.25514666, 0.30053618, 0.53309165, 0.36749785,\n",
       "       0.44175115, 0.20515424, 0.81933969, 0.55925028, 0.59231995,\n",
       "       0.30549065, 1.12098414, 0.48252805, 1.40367254, 0.97944395,\n",
       "       0.89910183, 0.97160292, 0.42631033, 0.99447347, 0.31694692,\n",
       "       0.92647464, 0.96185785, 0.50184976, 0.67778971, 0.3557621 ,\n",
       "       0.61793862, 0.82002594, 0.69046286, 0.94341246, 0.10456339,\n",
       "       0.5548292 , 0.58864061, 0.64408669, 0.76710878, 0.31386202,\n",
       "       0.56092549, 0.58120494, 0.78302274, 0.71050549, 1.1214883 ,\n",
       "       0.14786822, 0.95641113, 0.49660638, 0.48158043, 0.92200634,\n",
       "       0.0632922 , 1.04502258, 0.86439377, 0.17029686, 1.41780806,\n",
       "       0.81464096, 0.65355788, 0.9331102 , 0.14433487, 1.07001784,\n",
       "       0.97051316, 0.70579429, 0.39946304, 0.65490934, 0.43916233,\n",
       "       1.22519634, 0.73738496, 0.35124664, 1.41899004, 0.36878306,\n",
       "       0.06345   , 0.5882784 , 0.82942334, 0.63610208, 0.81049511,\n",
       "       1.58840174, 0.43376501, 1.09381239, 0.83838082, 1.33636336,\n",
       "       1.10696891, 1.54572419, 0.21779122, 1.78544323, 0.55303309,\n",
       "       0.38759766, 0.77260007, 0.57354197, 0.28078672, 0.66942828,\n",
       "       1.33243093, 1.19816312, 0.60848856, 0.67875686, 0.89847162,\n",
       "       0.80533019, 1.09101371, 0.50194292, 0.11619264, 0.49569027])"
      ]
     },
     "execution_count": 24,
     "metadata": {},
     "output_type": "execute_result"
    }
   ],
   "source": [
    "np.min(eucl.T, axis=1)"
   ]
  },
  {
   "cell_type": "code",
   "execution_count": 31,
   "metadata": {},
   "outputs": [
    {
     "data": {
      "text/plain": [
       "70.3840145987954"
      ]
     },
     "execution_count": 31,
     "metadata": {},
     "output_type": "execute_result"
    }
   ],
   "source": [
    "overall_quality = 0\n",
    "for i in range(len(X)):\n",
    "    min_val = np.min(eucl.T[i])\n",
    "    overall_quality = overall_quality + min_val\n",
    "overall_quality"
   ]
  },
  {
   "cell_type": "code",
   "execution_count": 12,
   "metadata": {},
   "outputs": [],
   "source": [
    "import random\n",
    "import math\n",
    "from statistics import mean\n",
    "from sklearn.datasets.samples_generator import make_blobs\n",
    "import matplotlib.pyplot as plt\n",
    "import urllib.request as url\n",
    "import numpy as np\n",
    "import scanpy as sc\n",
    "import pandas as pd\n",
    "import tarfile\n",
    "import csv\n",
    "import numba\n",
    "from sklearn.base import BaseEstimator, ClusterMixin, TransformerMixin\n",
    "\n",
    "\n",
    "class Kmeans_numba(BaseEstimator, ClusterMixin, TransformerMixin):   # Input: processed dataset, Output: clustered data (kmeans, kmeans++)\n",
    "    def __init__(self, inits=10, k=8, maxit=300, method=\"++\"):\n",
    "        \n",
    "        self.labels_ = None\n",
    "        self.cluster_centers_ = None\n",
    "        self._inits = inits\n",
    "        self._k = k\n",
    "        self._maxit = maxit\n",
    "        self._method = method\n",
    "       # dot = np.random.choice(range(len(self._data)), self._k, replace=False)\n",
    "        #self._clusters = self._data[dot]\n",
    "   \n",
    "    def fit(self,data):\n",
    "        self._data = data\n",
    "        output = self.complicated(self._data, self._k, self._inits, self._maxit, self._method)\n",
    "        self.cluster_centers_ = output[0]\n",
    "        self.labels_ = output[1]\n",
    "        \n",
    "        return self\n",
    "    \n",
    "    @staticmethod\n",
    "    @numba.jit(nopython=True) \n",
    "    def complicated(data, k, inits, maxit, method):\n",
    "        \n",
    "        #best_clust = float('inf')\n",
    "        best_clust = 100000\n",
    "        \n",
    "        for i in (range(inits)):\n",
    "            \n",
    "            if method == \"rng\": # random centers are choosen\n",
    "                #print(\"rng\")\n",
    "                dot = np.random.choice(len(data), k, replace=False)\n",
    "                cluster_centers_ = data[dot]\n",
    "            else:\n",
    "                raise AttributeError(\"No valid method\")\n",
    "            \n",
    "            for i in range(maxit):\n",
    "                \n",
    "                labels_ = np.ones(len(data))\n",
    "                eucl = np.ones((k,len(data)))\n",
    "                overall_quality = 0\n",
    "                for i in range(k):\n",
    "                    for j in range(len(data)):\n",
    "                        eucl[(i,j)] = np.linalg.norm(cluster_centers_[i]-data[j]) # euclidean dist by using integrated numpy function\n",
    "                        labels_[j] = np.argmin(eucl[:,j])\n",
    "                    \n",
    "                 \n",
    "                position = np.where(labels_ == i) # position im array bestimmen und dann die entspechenden punkte aus data auslesen\n",
    "                #cluster_centers_ = np.zeros((k,1,2))\n",
    "                x_pos = np.mean(data[position[0], 0])\n",
    "                y_pos = data[position[0], 1].mean()\n",
    "                cluster_centers_[i] = np.array((x_pos,y_pos))\n",
    "                    #out = pd.DataFrame(data[np.argwhere(dist == i)].squeeze())\n",
    "                    \n",
    "               \n",
    "                for i in range(len(data)):\n",
    "                    min_val = np.min(eucl.T[i])\n",
    "                    overall_quality = overall_quality + min_val\n",
    "                    \n",
    "                if overall_quality < best_clust:\n",
    "                    best_clust = overall_quality\n",
    "                    best_dist = labels_\n",
    "                    best_centers = cluster_centers_\n",
    "            cluster_centers_ = best_centers\n",
    "            labels_ = best_dist\n",
    "                \n",
    "        return cluster_centers_, labels_\n",
    "   \n",
    "    \n",
    "    def predict(self, X):\n",
    "        clusters = np.expand_dims(self.cluster_centers_, axis=1)\n",
    "        data = np.expand_dims(X, axis=0)\n",
    "        eucl = np.linalg.norm(clusters-data, axis=2) # euclidean dist by using integrated numpy function\n",
    "        self.labels_ = np.argmin(eucl, axis = 0)\n",
    "        return self.labels_ #returns the cluster with minimum distance\n",
    "    \n",
    "    def transform(self, X):\n",
    "        clusters = np.expand_dims(self.cluster_centers_, axis=1)\n",
    "        data = np.expand_dims(X, axis=0)\n",
    "        eucl = np.linalg.norm(clusters-data, axis=2)\n",
    "        return eucl.T"
   ]
  },
  {
   "cell_type": "markdown",
   "metadata": {},
   "source": [
    "## Numba versuch -.-"
   ]
  },
  {
   "cell_type": "code",
   "execution_count": 13,
   "metadata": {},
   "outputs": [
    {
     "name": "stdout",
     "output_type": "stream",
     "text": [
      "4.18881893157959\n",
      "1.522660732269287\n",
      "1.5290520191192627\n",
      "1.557873010635376\n",
      "1.5222258567810059\n",
      "1.5310018062591553\n",
      "1.527271032333374\n",
      "1.5255579948425293\n",
      "1.5321359634399414\n",
      "1.5141160488128662\n"
     ]
    },
    {
     "data": {
      "text/plain": [
       "17.950713396072388"
      ]
     },
     "execution_count": 13,
     "metadata": {},
     "output_type": "execute_result"
    }
   ],
   "source": [
    "liste = []\n",
    "X_kmeans = Kmeans_numba(inits=10,method=\"rng\")\n",
    "for i in range(10):\n",
    "    start = time.time()\n",
    "    X_kmeans.fit(X)\n",
    "    end = time.time()\n",
    "    liste.append(end-start)\n",
    "    print(end-start)\n",
    "np.sum(liste)"
   ]
  },
  {
   "cell_type": "code",
   "execution_count": 14,
   "metadata": {},
   "outputs": [
    {
     "name": "stdout",
     "output_type": "stream",
     "text": [
      "1.5 s ± 2.12 ms per loop (mean ± std. dev. of 7 runs, 1 loop each)\n"
     ]
    }
   ],
   "source": [
    "%%timeit\n",
    "X_kmeans.fit(X)"
   ]
  },
  {
   "cell_type": "markdown",
   "metadata": {},
   "source": [
    "## Internet version vs our version\n",
    "from http://www.goldsborough.me/c++/python/cuda/2017/09/10/20-32-46-exploring_k-means_in_python,_c++_and_cuda/"
   ]
  },
  {
   "cell_type": "code",
   "execution_count": 10,
   "metadata": {},
   "outputs": [],
   "source": [
    "#@numba.jit(nopython=True) \n",
    "def k_means(data, k, number_of_iterations):\n",
    "    n = len(data)\n",
    "    number_of_features = data.shape[1]\n",
    "    # Pick random indices for the initial centroids.\n",
    "    initial_indices = np.random.choice(range(n), k)\n",
    "    # We keep the centroids as |features| x k matrix.\n",
    "    means = data[initial_indices].T\n",
    "    # To avoid loops, we repeat the data k times depthwise and compute the\n",
    "    # distance from each point to each centroid in one step in a\n",
    "    # n x |features| x k tensor.\n",
    "    repeated_data = np.stack([data] * k, axis=-1)\n",
    "    all_rows = np.arange(n)\n",
    "    zero = np.zeros([1, 1, 2])\n",
    "    for _ in range(number_of_iterations):\n",
    "        # Broadcast means across the repeated data matrix, gives us a\n",
    "        # n x k matrix of distances.\n",
    "        distances = np.sum(np.square(repeated_data - means), axis=1)\n",
    "        # Find the index of the smallest distance (closest cluster) for each\n",
    "        # point.\n",
    "        assignment = np.argmin(distances, axis=-1)\n",
    "        # Again to avoid a loop, we'll create a sparse matrix with k slots for\n",
    "        # each point and fill exactly the one slot that the point was assigned\n",
    "        # to. Then we reduce across all points to give us the sum of points for\n",
    "        # each cluster.\n",
    "        sparse = np.zeros([n, k, number_of_features])\n",
    "        sparse[all_rows, assignment] = data\n",
    "        # To compute the correct mean, we need to know how many points are\n",
    "        # assigned to each cluster (without a loop).\n",
    "        counts = (sparse != zero).sum(axis=0)\n",
    "        # Compute new assignments.\n",
    "        means = sparse.sum(axis=0).T / counts.clip(min=1).T\n",
    "    return means.T"
   ]
  },
  {
   "cell_type": "markdown",
   "metadata": {},
   "source": [
    "## rand python implementation"
   ]
  },
  {
   "cell_type": "code",
   "execution_count": 59,
   "metadata": {
    "scrolled": true
   },
   "outputs": [
    {
     "name": "stdout",
     "output_type": "stream",
     "text": [
      "Time:1.794316053390503\n",
      "Mean Time:0.01794316053390503\n"
     ]
    }
   ],
   "source": [
    "liste = []\n",
    "\n",
    "for i in range(100):\n",
    "    start = time.time()\n",
    "    k_means(X,8,300)\n",
    "    end = time.time()\n",
    "    liste.append(end-start)\n",
    "    #print(end-start)\n",
    "print( \"Time:\"+ str(np.sum(liste)))\n",
    "print( \"Mean Time:\"+ str(np.mean(liste)))"
   ]
  },
  {
   "cell_type": "markdown",
   "metadata": {},
   "source": [
    "## our code"
   ]
  },
  {
   "cell_type": "code",
   "execution_count": 64,
   "metadata": {},
   "outputs": [
    {
     "name": "stderr",
     "output_type": "stream",
     "text": [
      "/Users/benedict/Desktop/Programmieren/Bioinfoprojekt/project-04-group-04/WWDK_Package/Cluster.py:70: RuntimeWarning: Mean of empty slice.\n",
      "  self.cluster_centers_[i] = self._data[position].mean(axis = 0)\n",
      "/anaconda3/envs/igem/lib/python3.6/site-packages/numpy/core/_methods.py:78: RuntimeWarning: invalid value encountered in true_divide\n",
      "  ret, rcount, out=ret, casting='unsafe', subok=False)\n"
     ]
    },
    {
     "name": "stdout",
     "output_type": "stream",
     "text": [
      "Time:4.9951136112213135\n",
      "Mean Time:0.049951136112213135\n"
     ]
    }
   ],
   "source": [
    "import WWDK_Package.Cluster as cl\n",
    "liste = []\n",
    "lib = cl.Kmeans(inits=1, method=\"rng\")\n",
    "for i in range(100):\n",
    "    start = time.time()\n",
    "    lib.fit(X)\n",
    "    end = time.time()\n",
    "    liste.append(end-start)\n",
    "    #print(end-start)\n",
    "print( \"Time:\"+ str(np.sum(liste)))\n",
    "print( \"Mean Time:\"+ str(np.mean(liste)))"
   ]
  },
  {
   "cell_type": "markdown",
   "metadata": {},
   "source": [
    "## sklearn"
   ]
  },
  {
   "cell_type": "code",
   "execution_count": 63,
   "metadata": {},
   "outputs": [
    {
     "name": "stdout",
     "output_type": "stream",
     "text": [
      "Time:0.12574529647827148\n",
      "Mean Time:0.001257452964782715\n"
     ]
    }
   ],
   "source": [
    "import sklearn.cluster as sk\n",
    "sk_kmeans = sk.KMeans(init=\"random\",n_init=1)\n",
    "liste = []\n",
    "for i in range(100):\n",
    "    start = time.time()\n",
    "    sk_kmeans.fit(X)\n",
    "    end = time.time()\n",
    "    liste.append(end-start)\n",
    "    #print(end-start)\n",
    "print( \"Time:\"+ str(np.sum(liste)))\n",
    "print( \"Mean Time:\"+ str(np.mean(liste)))"
   ]
  },
  {
   "cell_type": "markdown",
   "metadata": {},
   "source": [
    "## Optimization"
   ]
  },
  {
   "cell_type": "code",
   "execution_count": null,
   "metadata": {},
   "outputs": [],
   "source": [
    "for i in range(self._k): # range of clusters\n",
    "    position = np.where(self.labels_ == i) # position im array bestimmen und dann die entspechenden punkte aus data auslesen\n",
    "    self.cluster_centers_[i] = self._data[position].mean(axis = 0)"
   ]
  },
  {
   "cell_type": "code",
   "execution_count": 71,
   "metadata": {},
   "outputs": [
    {
     "data": {
      "text/plain": [
       "array([7, 2, 0, 1, 2, 2, 1, 5, 2, 5, 4, 2, 7, 2, 5, 7, 7, 5, 2, 7, 0, 7,\n",
       "       0, 1, 7, 7, 4, 5, 1, 0, 2, 3, 3, 6, 5, 2, 6, 7, 1, 4, 3, 5, 1, 5,\n",
       "       1, 3, 3, 4, 3, 5, 7, 3, 7, 4, 4, 7, 1, 2, 7, 5, 7, 4, 0, 7, 4, 7,\n",
       "       1, 2, 3, 0, 5, 1, 7, 3, 0, 7, 4, 7, 1, 5, 7, 1, 7, 4, 2, 7, 3, 7,\n",
       "       4, 6, 4, 4, 7, 7, 0, 3, 3, 3, 2, 0])"
      ]
     },
     "execution_count": 71,
     "metadata": {},
     "output_type": "execute_result"
    }
   ],
   "source": [
    "lib.labels_"
   ]
  },
  {
   "cell_type": "code",
   "execution_count": 82,
   "metadata": {},
   "outputs": [
    {
     "ename": "TypeError",
     "evalue": "unhashable type: 'numpy.ndarray'",
     "output_type": "error",
     "traceback": [
      "\u001b[0;31m---------------------------------------------------------------------------\u001b[0m",
      "\u001b[0;31mTypeError\u001b[0m                                 Traceback (most recent call last)",
      "\u001b[0;32m<ipython-input-82-089fa2e1daa5>\u001b[0m in \u001b[0;36m<module>\u001b[0;34m\u001b[0m\n\u001b[1;32m      1\u001b[0m \u001b[0;34m\u001b[0m\u001b[0m\n\u001b[0;32m----> 2\u001b[0;31m \u001b[0mtest\u001b[0m \u001b[0;34m=\u001b[0m \u001b[0;34m{\u001b[0m\u001b[0mlib\u001b[0m\u001b[0;34m.\u001b[0m\u001b[0mlabels_\u001b[0m\u001b[0;34m:\u001b[0m \u001b[0mlib\u001b[0m\u001b[0;34m.\u001b[0m\u001b[0m_data\u001b[0m\u001b[0;34m}\u001b[0m\u001b[0;34m\u001b[0m\u001b[0;34m\u001b[0m\u001b[0m\n\u001b[0m",
      "\u001b[0;31mTypeError\u001b[0m: unhashable type: 'numpy.ndarray'"
     ]
    }
   ],
   "source": [
    "\n"
   ]
  },
  {
   "cell_type": "code",
   "execution_count": 74,
   "metadata": {},
   "outputs": [
    {
     "data": {
      "text/plain": [
       "array([[ 2.0737091 ,  8.70209833],\n",
       "       [ 1.67467427,  0.68001896],\n",
       "       [ 9.6192097 , -2.45614888],\n",
       "       [ 5.04495632,  0.30094763],\n",
       "       [ 1.42613574,  0.0456529 ],\n",
       "       [ 1.30359031,  1.36415787],\n",
       "       [ 5.93450486,  0.95891726],\n",
       "       [-8.10748206, -8.53726546],\n",
       "       [ 1.08692881,  0.77001949],\n",
       "       [-8.03317149, -8.06708308],\n",
       "       [ 1.1641107 ,  3.79132988],\n",
       "       [ 1.74947621,  0.63481908],\n",
       "       [ 0.76076201,  7.58507011],\n",
       "       [ 2.16172321,  0.6565951 ],\n",
       "       [-7.91948308, -7.86425577],\n",
       "       [ 1.08757172,  8.52242026],\n",
       "       [-1.95212982,  9.00163273],\n",
       "       [-8.59387451, -8.70023255],\n",
       "       [ 1.03150541,  2.0681289 ],\n",
       "       [-1.49642716,  7.38698713],\n",
       "       [ 9.51085924, -2.98700653],\n",
       "       [-0.1277204 ,  8.37908681],\n",
       "       [ 8.85651449, -2.42095035],\n",
       "       [ 5.53568129,  1.73561763],\n",
       "       [-1.4090578 ,  8.31693385],\n",
       "       [-2.01054677,  8.41709804],\n",
       "       [ 1.71444449,  5.02521524],\n",
       "       [-8.80078794, -8.40104151],\n",
       "       [ 5.28680743,  1.24810817],\n",
       "       [ 8.86865561, -2.31207129],\n",
       "       [ 1.74878444,  0.18928435],\n",
       "       [-2.16935559,  3.5505533 ],\n",
       "       [-1.76881018,  3.6513493 ],\n",
       "       [ 9.01216308, -1.22161139],\n",
       "       [-8.41132408, -8.31630424],\n",
       "       [ 2.09517785,  1.0791468 ],\n",
       "       [ 9.64170283, -1.77784562],\n",
       "       [-1.24195576,  8.90698231],\n",
       "       [ 5.14601957,  0.31520637],\n",
       "       [ 1.06923853,  4.53068484],\n",
       "       [-1.28549903,  2.50699621],\n",
       "       [-8.11620451, -7.76331151],\n",
       "       [ 5.38764787,  0.08203527],\n",
       "       [-8.60284853, -8.9582701 ],\n",
       "       [ 6.51048231, -0.07006051],\n",
       "       [-1.71383553,  2.95158147],\n",
       "       [-2.50502302,  3.19555161],\n",
       "       [ 1.4949318 ,  3.85848832],\n",
       "       [-1.08944968,  2.99527201],\n",
       "       [-8.19519992, -9.22758763],\n",
       "       [-1.03443594,  8.25940392],\n",
       "       [-1.24750655,  1.99613605],\n",
       "       [ 1.73603009,  7.55069817],\n",
       "       [ 1.00372519,  4.19147702],\n",
       "       [ 2.33812285,  3.43116792],\n",
       "       [ 1.91340652,  8.70316936],\n",
       "       [ 6.40415325,  0.63042914],\n",
       "       [ 1.56737975, -0.1381059 ],\n",
       "       [-1.12329079,  8.42144344],\n",
       "       [-9.35499298, -8.09718348],\n",
       "       [-1.76499119,  8.98149899],\n",
       "       [ 1.87271752,  4.18069237],\n",
       "       [ 8.81130557, -2.00762011],\n",
       "       [ 1.87498959,  8.12131741],\n",
       "       [ 0.74387399,  4.12240568],\n",
       "       [ 0.91715342,  9.43774152],\n",
       "       [ 5.09923945,  1.08451618],\n",
       "       [ 1.51798758,  1.12980516],\n",
       "       [-0.6339527 ,  4.05541577],\n",
       "       [ 8.89174756, -1.92530965],\n",
       "       [-8.26531284, -8.3603418 ],\n",
       "       [ 5.77542925,  0.17981142],\n",
       "       [ 0.74034552,  8.92088948],\n",
       "       [-2.0493823 ,  2.57057246],\n",
       "       [ 8.37850065, -2.0675346 ],\n",
       "       [-0.11836536,  7.02680458],\n",
       "       [ 0.76752279,  4.39759671],\n",
       "       [-0.09449056,  8.72376889],\n",
       "       [ 5.7935558 ,  1.60590403],\n",
       "       [-7.28133727, -7.45549724],\n",
       "       [ 0.97472018,  7.17789087],\n",
       "       [ 7.26438763,  1.14458609],\n",
       "       [-1.17210852,  8.07665363],\n",
       "       [-0.55552381,  4.69595848],\n",
       "       [ 2.03835818,  1.15466278],\n",
       "       [ 0.87884542,  8.0982029 ],\n",
       "       [-0.81963627,  2.80992736],\n",
       "       [ 1.14849488,  7.68696199],\n",
       "       [ 1.24258802,  4.50399192],\n",
       "       [ 9.45219811, -1.53533809],\n",
       "       [ 0.44359863,  3.11530945],\n",
       "       [ 1.89593761,  5.18540259],\n",
       "       [ 0.69826122,  8.54323181],\n",
       "       [-0.67990459,  7.74245396],\n",
       "       [ 9.49911053, -2.9908101 ],\n",
       "       [-2.22599392,  3.45837815],\n",
       "       [-0.8432636 ,  2.17698677],\n",
       "       [-2.07128303,  2.9490495 ],\n",
       "       [ 1.65179125,  0.68193176],\n",
       "       [ 9.67663206, -2.08669252]])"
      ]
     },
     "execution_count": 74,
     "metadata": {},
     "output_type": "execute_result"
    }
   ],
   "source": [
    "lib._data"
   ]
  },
  {
   "cell_type": "code",
   "execution_count": 14,
   "metadata": {},
   "outputs": [],
   "source": [
    "import random\n",
    "import math\n",
    "import matplotlib.pyplot as plt\n",
    "import numpy as np\n",
    "import scanpy as sc\n",
    "import pandas as pd\n",
    "import numba\n",
    "from numba import njit, jit\n",
    "from statistics import mean\n",
    "from sklearn.datasets.samples_generator import make_blobs\n",
    "from sklearn.base import BaseEstimator, ClusterMixin, TransformerMixin\n",
    "\n",
    "class MiniBatchKMeans(BaseEstimator, ClusterMixin, TransformerMixin):\n",
    "    \"\"\"Performs mini-batch k-means on a set of input data.\"\"\"\n",
    "    def __init__(self, k=8, inits=300, max_iterations=300, tol=1e-3, batch_size=128):\n",
    "        \"\"\"Simple mini-batch k-means clustering implementation in pure Python.\n",
    "        \n",
    "        Args:\n",
    "            k (int): number of clusters to fit.\n",
    "            inits (int): number of independent initializations to perform.\n",
    "            max_iterations (int): maximum number of iterations to perform.\n",
    "            tol (float): tolerance for early stopping.\n",
    "            batch_size (int): number of datapoints for the minibatch.\n",
    "        \"\"\"\n",
    "        self.labels_ = None\n",
    "        self.cluster_centers_ = None\n",
    "        self._k = k\n",
    "        self._inits = inits\n",
    "        self._max_iterations = max_iterations\n",
    "        self._tol = tol\n",
    "        self._batch_size = batch_size\n",
    "        \n",
    "    def create_batch(self, data): \n",
    "        data_batch = np.random.choice(range(len(data)), self._batch_size, replace=False)\n",
    "        return data[data_batch]\n",
    "        \n",
    "        \"\"\"chooses x (x = batch_size) random points from the data to create the data batch\n",
    "        \"\"\"\n",
    "        \n",
    "    def initialize(self, data): \n",
    "        indices = np.random.choice(range(len(data)), self._k, replace=False)\n",
    "        return data[indices], np.zeros(self._k)\n",
    "        \n",
    "        \"\"\"chooses k random data points from data, to set centers for clustering\n",
    "        \"\"\"\n",
    "    \n",
    "    def expectation(self, data, centroids): \n",
    "        centroids = np.expand_dims(centroids, axis=1)\n",
    "        data = np.expand_dims(data, axis=0)\n",
    "        metric = np.linalg.norm(centroids - data, axis=2)\n",
    "        return np.argmin(metric, axis=0)\n",
    "        \n",
    "        \"\"\"measures the euclidean distance between each data_batch points and center points using numpys linalg.norm function\n",
    "        \"\"\"\n",
    "    \n",
    "    @staticmethod\n",
    "    @numba.jit(nopython=True)\n",
    "    def _maximization_aux(data, assignments, centroids, centroid_count): #verschiebt die centroids richtung clustermittelpunkt mit lr\n",
    "        update = centroids.copy()\n",
    "        for idx, assignment in enumerate(assignments):\n",
    "            data_point = data[idx]\n",
    "            centroid_count[assignment] += 1\n",
    "            lr = 1 / centroid_count[assignment] #learning rate\n",
    "            update[assignment] = update[assignment] * (1 - lr) + data_point * lr\n",
    "        return update\n",
    "    \n",
    "        \"\"\"Moves the centroids to the new centroid point of the assigned data_batch points. But not completely, but according to the learning rate\n",
    "        \"\"\"\n",
    "    \n",
    "    def maximization(self, data, assignments, centroids, centroid_count): \n",
    "        return MiniBatchKMeans._maximization_aux(data, assignments, centroids, centroid_count)\n",
    "    \n",
    "        \"\"\"This part applies maximization_aux on the data using maximization_aux\n",
    "        \"\"\"\n",
    "    \n",
    "    def final_assignments(self, data, centroids): \n",
    "        assignments = []\n",
    "        for idx in range(len(data) // self._batch_size + 1):\n",
    "            start = idx * self._batch_size\n",
    "            stop = min(idx * self._batch_size + self._batch_size, len(data))\n",
    "            sub_result = self.expectation(data[start:stop], centroids)\n",
    "            assignments.append(sub_result)\n",
    "        return np.concatenate(assignments, axis=0)\n",
    "    \n",
    "        \"\"\"Assignes the rest of the data points to the centroids, which were determined before (not only batch_points)\n",
    "        \"\"\"\n",
    "    \n",
    "    def fit(self, data): #alles zusammen\n",
    "        centroids, counts = self.initialize(data)\n",
    "        \n",
    "        old_centroids = None\n",
    "        for idx in range(self._max_iterations):\n",
    "            old_centroids = centroids.copy()\n",
    "            \n",
    "            batch = self.create_batch(data)\n",
    "            assignments = self.expectation(batch, centroids)\n",
    "            centroids = self.maximization(batch, assignments, centroids, counts)\n",
    "            \n",
    "            if np.linalg.norm(centroids - old_centroids) < self._tol:\n",
    "                break\n",
    "\n",
    "        self.labels_ = self.final_assignments(data, centroids)\n",
    "        self.cluster_centers_ = centroids\n",
    "                \n",
    "        return self\n",
    "    \n",
    "    def predict(self, data):\n",
    "        \n",
    "        centroids = np.expand_dims(self.cluster_centers_, axis=1)\n",
    "        data = np.expand_dims(data, axis=0)\n",
    "        metric = np.linalg.norm(centroids - data, axis=2)\n",
    "        self.labels_ = np.argmin(metric, axis=0)\n",
    "        \n",
    "        return self.labels_\n",
    "\n",
    "    \n",
    "    def transform(self, data):\n",
    "        \n",
    "        centroids = np.expand_dims(self.cluster_centers_, axis=1)\n",
    "        data = np.expand_dims(data, axis=0)\n",
    "        metric = np.linalg.norm(centroids - data, axis=2)\n",
    "        \n",
    "        return metric.T\n"
   ]
  },
  {
   "cell_type": "code",
   "execution_count": 15,
   "metadata": {},
   "outputs": [],
   "source": [
    "test = MiniBatchKMeans(batch_size=20)"
   ]
  },
  {
   "cell_type": "code",
   "execution_count": 16,
   "metadata": {},
   "outputs": [
    {
     "data": {
      "text/plain": [
       "MiniBatchKMeans(batch_size=None, inits=None, k=None, max_iterations=None,\n",
       "        tol=None)"
      ]
     },
     "execution_count": 16,
     "metadata": {},
     "output_type": "execute_result"
    }
   ],
   "source": [
    "test.fit(X)"
   ]
  },
  {
   "cell_type": "code",
   "execution_count": 18,
   "metadata": {},
   "outputs": [
    {
     "data": {
      "text/plain": [
       "array([[ 2.155247  , 20.29129702, 19.38852443, 10.77488929,  3.45983932,\n",
       "         6.33698767,  1.08804225, 20.35797536],\n",
       "       [ 6.05781328, 13.98060025, 12.88395966,  5.8362973 ,  8.2586646 ,\n",
       "         2.40559998,  7.93245957, 13.79502405],\n",
       "       [12.4374    , 19.58141166, 18.37788324,  2.87536645, 15.4166025 ,\n",
       "        10.6475214 , 14.01033852, 19.07019698],\n",
       "       [ 7.47076745, 16.51471152, 15.3540569 ,  2.50783592, 10.29777153,\n",
       "         5.31722153,  9.22053822, 16.1983198 ],\n",
       "       [ 6.67848478, 13.38841704, 12.2797869 ,  5.96677757,  8.76911439,\n",
       "         2.83243541,  8.54843329, 13.18264487],\n",
       "       [ 5.35752286, 14.15225206, 13.08505807,  6.38422014,  7.486498  ,\n",
       "         1.63689335,  7.22562031, 14.01353299],\n",
       "       [ 7.44208168, 17.61667184, 16.45775259,  2.17435902, 10.39602933,\n",
       "         5.91089479,  9.085925  , 17.30382916],\n",
       "       [17.88597842,  1.02276004,  0.65613233, 17.33057249, 18.18894766,\n",
       "        13.95606366, 19.38839585,  0.35475517],\n",
       "       [ 5.95267666, 13.59288308, 12.51408371,  6.42891011,  7.97492554,\n",
       "         2.0327113 ,  7.81362002, 13.43663513],\n",
       "       [17.4470462 ,  1.06884937,  0.19093438, 17.0558858 , 17.7250042 ,\n",
       "        13.537127  , 18.93897375,  0.78149949],\n",
       "       [ 2.93039807, 15.8094702 , 14.81716198,  7.63852991,  5.22160634,\n",
       "         1.46993743,  4.79481822, 15.77283158],\n",
       "       [ 6.10885942, 14.00957268, 12.90988866,  5.75301544,  8.32841794,\n",
       "         2.48630381,  7.98423997, 13.81881495],\n",
       "       [ 0.98067581, 18.64248574, 17.76261667, 10.57943641,  2.26539485,\n",
       "         4.98097339,  1.02447876, 18.73358685],\n",
       "       [ 6.13646084, 14.34433968, 13.23594271,  5.35821696,  8.47158361,\n",
       "         2.73673225,  8.0122855 , 14.13816511],\n",
       "       [17.21480625,  1.22798027,  0.04266828, 16.86622176, 17.49433838,\n",
       "        13.30722817, 18.70648073,  1.01372171],\n",
       "       [ 1.80653526, 19.61222248, 18.74078681, 11.14120422,  2.46202464,\n",
       "         5.95073955,  0.11302226, 19.7120383 ],\n",
       "       [ 3.9106739 , 18.66335907, 17.93307449, 13.43436245,  0.86901145,\n",
       "         6.74721881,  2.97393054, 18.89646856],\n",
       "       [18.28176233,  0.67203808,  1.03445993, 17.83821507, 18.52465048,\n",
       "        14.38118002, 19.76373349,  0.2290226 ],\n",
       "       [ 4.65698264, 14.44746069, 13.40942872,  6.8930845 ,  6.73178195,\n",
       "         0.95019609,  6.51505492, 14.35093334],\n",
       "       [ 2.80146234, 17.37664196, 16.59108417, 11.9795963 ,  0.97874925,\n",
       "         5.07346871,  2.76113314, 17.56010458],\n",
       "       [12.76350292, 19.32683388, 18.12323483,  3.15268927, 15.71829985,\n",
       "        10.81826841, 14.36781668, 18.79796312],\n",
       "       [ 2.13964606, 18.88384335, 18.05773261, 11.75565817,  1.24138514,\n",
       "         5.76355427,  1.13834247, 19.02902672],\n",
       "       [11.90886127, 18.8649772 , 17.66182695,  2.29355997, 14.85705732,\n",
       "         9.9661916 , 13.52537758, 18.36438653],\n",
       "       [ 6.59084201, 17.70376016, 16.56285616,  3.03064615,  9.56668157,\n",
       "         5.34641367,  8.21771152, 17.43223018],\n",
       "       [ 3.07954692, 18.25427176, 17.48434911, 12.564562  ,  0.05699517,\n",
       "         5.92911361,  2.4159581 , 18.45213363],\n",
       "       [ 3.65287973, 18.10168888, 17.36308176, 13.06056716,  0.64440246,\n",
       "         6.21923167,  3.00732756, 18.3274486 ],\n",
       "       [ 1.76517168, 17.10989209, 16.1322508 ,  8.02725499,  4.53988242,\n",
       "         2.80088514,  3.63041832, 17.09108016],\n",
       "       [18.1436083 ,  0.32673188,  1.00015069, 17.89246592, 18.33242775,\n",
       "        14.27716093, 19.60516382,  0.5626693 ],\n",
       "       [ 6.81571598, 17.22538535, 16.07869403,  2.83138098,  9.7386144 ,\n",
       "         5.20873685,  8.49972167, 16.94152266],\n",
       "       [11.83332326, 18.91039637, 17.70745569,  2.22105463, 14.78666218,\n",
       "         9.92199421, 13.44405409, 18.41367948],\n",
       "       [ 6.55280387, 13.73098774, 12.61906556,  5.66737164,  8.74288762,\n",
       "         2.85569741,  8.42780999, 13.51903021],\n",
       "       [ 4.64459892, 13.67363631, 12.82343113, 10.42002793,  4.87303073,\n",
       "         2.60244597,  5.94319738, 13.79502963],\n",
       "       [ 4.28774469, 13.96633435, 13.09721347, 10.09851261,  4.72300532,\n",
       "         2.27583994,  5.65198958, 14.06871856],\n",
       "       [11.12342255, 19.41399983, 18.2149229 ,  1.74680167, 14.12530219,\n",
       "         9.55768667, 12.66694634, 18.95536677],\n",
       "       [17.8599384 ,  0.67981972,  0.63137752, 17.50472093, 18.09993785,\n",
       "        13.9665942 , 19.33946507,  0.45466905],\n",
       "       [ 5.70870325, 14.55911441, 13.46347319,  5.54303169,  8.06057317,\n",
       "         2.39861971,  7.58454727, 14.37478185],\n",
       "       [11.96148984, 19.81377311, 18.61151887,  2.53779694, 14.9651871 ,\n",
       "        10.3611175 , 13.49675569, 19.32633846],\n",
       "       [ 3.29586094, 18.86011863, 18.09425421, 12.88224197,  0.56406149,\n",
       "         6.45628615,  2.25751271, 19.06172317],\n",
       "       [ 7.51078308, 16.60862105, 15.44715344,  2.42131475, 10.34993622,\n",
       "         5.40214293,  9.25266054, 16.29009821],\n",
       "       [ 2.1959289 , 16.32012734, 15.35165528,  8.1675493 ,  4.5374339 ,\n",
       "         2.06508237,  4.05311265, 16.31262334],\n",
       "       [ 4.90510022, 13.2834843 , 12.35269226,  9.2068337 ,  5.85099323,\n",
       "         1.55470362,  6.48895345, 13.32030089],\n",
       "       [17.23518376,  1.08352211,  0.23207721, 17.00227114, 17.47578534,\n",
       "        13.35038064, 18.71275026,  1.03915211],\n",
       "       [ 7.83625773, 16.69867906, 15.53106924,  2.1074102 , 10.6832921 ,\n",
       "         5.72135774,  9.57013549, 16.36391917],\n",
       "       [18.50470991,  0.86308346,  1.24862979, 17.96347271, 18.76598065,\n",
       "        14.59077342, 19.99408303,  0.29538241],\n",
       "       [ 8.60574641, 17.609741  , 16.43109066,  1.04364045, 11.53719725,\n",
       "         6.80423631, 10.26294554, 17.24171843],\n",
       "       [ 4.77959608, 13.40551903, 12.51135243,  9.76670424,  5.41680597,\n",
       "         2.00440058,  6.24789764, 13.4820041 ],\n",
       "       [ 5.13231685, 13.19805427, 12.35624327, 10.59199649,  5.28539156,\n",
       "         2.82682087,  6.42307211, 13.32770596],\n",
       "       [ 2.87533457, 16.07646101, 15.07487483,  7.41436595,  5.33308386,\n",
       "         1.73956272,  4.75124918, 16.02795009],\n",
       "       [ 4.38603493, 13.79440971, 12.87011528,  9.20782954,  5.36940052,\n",
       "         1.40256812,  5.96294295, 13.83833192],\n",
       "       [18.52285199,  1.32790522,  1.34851518, 17.73055498, 18.86345033,\n",
       "        14.56506675, 20.04064942,  0.49226651],\n",
       "       [ 2.73318179, 18.36326378, 17.57461707, 12.26436816,  0.34853855,\n",
       "         5.77838487,  2.05231583, 18.54396273],\n",
       "       [ 5.33266583, 12.89657793, 11.94648084,  9.00563473,  6.36241721,\n",
       "         1.63899173,  6.95729192, 12.91162593],\n",
       "       [ 0.97449633, 19.14720409, 18.23058609,  9.97302544,  3.20802894,\n",
       "         5.13710553,  1.27242622, 19.19885746],\n",
       "       [ 2.53926085, 16.0146375 , 15.03917234,  8.006625  ,  4.79419409,\n",
       "         1.72865777,  4.39160335, 15.99876273],\n",
       "       [ 3.47322091, 16.33550071, 15.29672917,  6.48897721,  6.16521273,\n",
       "         2.22348842,  5.32480616, 16.23705003],\n",
       "       [ 2.09829677, 20.20446634, 19.30720478, 10.85516755,  3.30048499,\n",
       "         6.29412838,  0.92900528, 20.27708514],\n",
       "       [ 7.99515679, 17.85327548, 16.68495867,  1.62590758, 10.96022825,\n",
       "         6.456793  ,  9.61944305, 17.51573661],\n",
       "       [ 6.86775878, 13.38756003, 12.27063821,  5.80617571,  8.98862417,\n",
       "         3.05842493,  8.74011788, 13.16681309],\n",
       "       [ 2.89904212, 18.47054235, 17.68937577, 12.44347301,  0.25383849,\n",
       "         5.95646161,  2.12165333, 18.65815753],\n",
       "       [18.2074828 ,  0.30530683,  1.43557224, 18.26894921, 18.2901769 ,\n",
       "        14.40769581, 19.62893402,  1.18798658],\n",
       "       [ 3.7480572 , 18.71717092, 17.97743205, 13.29084992,  0.73917632,\n",
       "         6.66889569,  2.78582835, 18.94203019],\n",
       "       [ 2.62174372, 16.5678506 , 15.56283462,  7.33018849,  5.28706259,\n",
       "         2.23488717,  4.48956592, 16.51475809],\n",
       "       [11.56487969, 18.95393006, 17.75185621,  1.96709014, 14.52826365,\n",
       "         9.72350143, 13.16438624, 18.46926199],\n",
       "       [ 1.54383396, 19.69755871, 18.78895361, 10.37575535,  3.25248459,\n",
       "         5.72369783,  0.99625936, 19.75794962],\n",
       "       [ 2.64281166, 15.79806068, 14.83016745,  8.17312325,  4.73275968,\n",
       "         1.56858909,  4.46756627, 15.79138283],\n",
       "       [ 2.73399921, 20.31579228, 19.47003454, 11.99996613,  2.52849017,\n",
       "         6.84006918,  0.85796456, 20.44165753],\n",
       "       [ 6.83979376, 16.97875004, 15.83138131,  2.86634568,  9.73302614,\n",
       "         5.07548759,  8.54962166, 16.69353921],\n",
       "       [ 5.59897977, 14.15412653, 13.07422956,  6.10762049,  7.78281851,\n",
       "         1.95414539,  7.47178298, 13.99573671],\n",
       "       [ 3.24971356, 14.92425906, 14.01130506,  9.2872506 ,  4.36430916,\n",
       "         1.68583884,  4.8108185 , 14.98043035],\n",
       "       [11.55609424, 19.05704436, 17.8551464 ,  1.97537215, 14.52636317,\n",
       "         9.75558901, 13.14643799, 18.57431399],\n",
       "       [17.81884201,  0.83016889,  0.56414233, 17.39275943, 18.08433039,\n",
       "        13.91112861, 19.30752553,  0.42382651],\n",
       "       [ 7.96851156, 17.0839165 , 15.91434612,  1.79817607, 10.85884609,\n",
       "         6.03068914,  9.66922848, 16.74344644],\n",
       "       [ 2.25249099, 19.77914144, 18.9294511 , 11.666092  ,  2.18323394,\n",
       "         6.30997517,  0.4213724 , 19.90107347],\n",
       "       [ 5.28647359, 12.90295394, 12.01439264,  9.94729208,  5.82669261,\n",
       "         2.314536  ,  6.73804703, 12.98536872],\n",
       "       [11.33209185, 18.52570877, 17.32394774,  1.71758119, 14.27204554,\n",
       "         9.37521781, 12.96120169, 18.04486401],\n",
       "       [ 1.37746307, 17.70982271, 16.8527533 , 10.73987257,  1.82601949,\n",
       "         4.41454331,  1.9118832 , 17.82434542],\n",
       "       [ 2.36806327, 16.02891849, 15.06785168,  8.31955243,  4.49937456,\n",
       "         1.83887015,  4.19149443, 16.03031194],\n",
       "       [ 2.39813824, 19.20349535, 18.38330582, 12.0030627 ,  1.32604306,\n",
       "         6.10543914,  1.09575943, 19.35442035],\n",
       "       [ 6.85851686, 17.8454267 , 16.69900091,  2.7755441 ,  9.84294821,\n",
       "         5.62297528,  8.46958197, 17.56175881],\n",
       "       [16.53267632,  1.97056337,  0.7910852 , 16.11514456, 16.88206974,\n",
       "        12.59496985, 18.04679655,  1.71002653],\n",
       "       [ 0.52074042, 18.41405661, 17.51649595, 10.12795051,  2.62371111,\n",
       "         4.60412354,  1.40528305, 18.48647911],\n",
       "       [ 8.22038795, 18.85529102, 17.68713518,  1.84072751, 11.24982403,\n",
       "         7.1556072 ,  9.72991981, 18.51754951],\n",
       "       [ 2.75362276, 18.13870187, 17.35258289, 12.22711104,  0.34285386,\n",
       "         5.63398259,  2.22276265, 18.32172078],\n",
       "       [ 2.69639813, 15.49943481, 14.60137529,  9.56568874,  3.75069627,\n",
       "         2.22375489,  4.18390255, 15.57157592],\n",
       "       [ 5.62558382, 14.56413621, 13.47187454,  5.62127874,  7.96799005,\n",
       "         2.30655608,  7.50170747, 14.38543927],\n",
       "       [ 1.41987974, 19.14131909, 18.26848889, 10.91527062,  2.26265593,\n",
       "         5.50371907,  0.49793595, 19.23970978],\n",
       "       [ 4.41325014, 13.80371229, 12.86075587,  8.88657067,  5.57459441,\n",
       "         1.09906819,  6.05077375, 13.82668738],\n",
       "       [ 0.96886668, 18.93582623, 18.04353328, 10.42425557,  2.60515597,\n",
       "         5.13475424,  0.90963172, 19.01383022],\n",
       "       [ 2.21718041, 16.40782099, 15.43246702,  8.01774539,  4.65496152,\n",
       "         2.11490635,  4.08675109, 16.3919771 ],\n",
       "       [11.65588857, 19.71593336, 18.51470648,  2.26711864, 14.66160544,\n",
       "        10.0874212 , 13.18915062, 19.23965809],\n",
       "       [ 3.68943377, 14.82804017, 13.84205106,  7.88466982,  5.54659065,\n",
       "         0.51837345,  5.4952083 , 14.79961344],\n",
       "       [ 1.67596709, 17.3487462 , 16.3692475 ,  8.01768799,  4.55201093,\n",
       "         3.03275769,  3.51580111, 17.32759843],\n",
       "       [ 1.8966679 , 19.43107766, 18.57497623, 11.38137359,  2.07551369,\n",
       "         5.93023439,  0.29662319, 19.54655908],\n",
       "       [ 2.16121695, 18.0623789 , 17.24641523, 11.64506629,  0.92351985,\n",
       "         5.20002905,  1.87151093, 18.21731529],\n",
       "       [12.75877376, 19.31449356, 18.11089482,  3.14741078, 15.7129168 ,\n",
       "        10.81020524, 14.36391859, 18.78561406],\n",
       "       [ 4.74899643, 13.56547352, 12.71563817, 10.43475501,  4.97342401,\n",
       "         2.62492092,  6.0513779 , 13.6872315 ],\n",
       "       [ 4.99255806, 13.28759005, 12.32478637,  8.67884142,  6.20272146,\n",
       "         1.19631746,  6.66383968, 13.28770622],\n",
       "       [ 5.00920952, 13.21013932, 12.33536186, 10.09828037,  5.45376182,\n",
       "         2.35754257,  6.41303727, 13.30677996],\n",
       "       [ 6.05424866, 13.96421563, 12.86818212,  5.85898832,  8.24847893,\n",
       "         2.39069889,  7.9286174 , 13.77967362],\n",
       "       [12.20703026, 19.74832928, 18.54530321,  2.71415511, 15.20141742,\n",
       "        10.52741455, 13.75729378, 19.24951642]])"
      ]
     },
     "execution_count": 18,
     "metadata": {},
     "output_type": "execute_result"
    }
   ],
   "source": [
    "test.fit_transform(X)"
   ]
  },
  {
   "cell_type": "code",
   "execution_count": 1,
   "metadata": {},
   "outputs": [],
   "source": [
    "from WWDK_Package import Cluster"
   ]
  },
  {
   "cell_type": "code",
   "execution_count": 2,
   "metadata": {},
   "outputs": [],
   "source": [
    "km = Cluster.Kmeans()\n",
    "mb = Cluster.MiniBatchKMeans(batch_size= 10)"
   ]
  },
  {
   "cell_type": "code",
   "execution_count": 8,
   "metadata": {},
   "outputs": [
    {
     "data": {
      "image/png": "[encoded data removed]",
      "text/plain": [
       "<Figure size 432x288 with 1 Axes>"
      ]
     },
     "metadata": {},
     "output_type": "display_data"
    }
   ],
   "source": [
    "km.fit_predict(X)\n",
    "plot(X, km.labels_, km.cluster_centers_,8)"
   ]
  },
  {
   "cell_type": "code",
   "execution_count": 7,
   "metadata": {
    "scrolled": true
   },
   "outputs": [
    {
     "data": {
      "image/png": "[encoded data removed]",
      "text/plain": [
       "<Figure size 432x288 with 1 Axes>"
      ]
     },
     "metadata": {},
     "output_type": "display_data"
    }
   ],
   "source": [
    "mb.fit_predict(X)\n",
    "plot(X, mb.labels_, mb.cluster_centers_,8)"
   ]
  },
  {
   "cell_type": "markdown",
   "metadata": {},
   "source": [
    "## Our code vs another python code"
   ]
  },
  {
   "cell_type": "code",
   "execution_count": 81,
   "metadata": {},
   "outputs": [
    {
     "name": "stdout",
     "output_type": "stream",
     "text": [
      "Time:0.11432385444641113\n",
      "Mean Time:0.0011432385444641114\n"
     ]
    }
   ],
   "source": [
    "liste = []\n",
    "lib = Cluster.Kmeans(inits=1, method=\"rng\")\n",
    "for i in range(100):\n",
    "    start = time.time()\n",
    "    lib.fit(X)\n",
    "    end = time.time()\n",
    "    liste.append(end-start)\n",
    "   # print(end-start)\n",
    "print( \"Time:\"+ str(np.sum(liste)))\n",
    "print( \"Mean Time:\"+ str(np.mean(liste)))"
   ]
  },
  {
   "cell_type": "code",
   "execution_count": 87,
   "metadata": {},
   "outputs": [
    {
     "name": "stdout",
     "output_type": "stream",
     "text": [
      "Time:23.789578914642334\n",
      "Mean Time:0.0023789578914642333\n"
     ]
    }
   ],
   "source": [
    "liste = []\n",
    "lib = Cluster.Kmeans(inits=1, method=\"rng\")\n",
    "for i in range(10000):\n",
    "    start = time.time()\n",
    "    lib.fit(X)\n",
    "    end = time.time()\n",
    "    liste.append(end-start)\n",
    "   # print(end-start)\n",
    "print( \"Time:\"+ str(np.sum(liste)))\n",
    "print( \"Mean Time:\"+ str(np.mean(liste)))"
   ]
  },
  {
   "cell_type": "markdown",
   "metadata": {},
   "source": [
    "Rand python implementation"
   ]
  },
  {
   "cell_type": "code",
   "execution_count": 86,
   "metadata": {},
   "outputs": [
    {
     "name": "stdout",
     "output_type": "stream",
     "text": [
      "Time:187.65190386772156\n",
      "Mean Time:0.018765190386772157\n"
     ]
    }
   ],
   "source": [
    "liste = []\n",
    "\n",
    "for i in range(10000):\n",
    "    start = time.time()\n",
    "    k_means(X,8,300)\n",
    "    end = time.time()\n",
    "    liste.append(end-start)\n",
    "    #print(end-start)\n",
    "print( \"Time:\"+ str(np.sum(liste)))\n",
    "print( \"Mean Time:\"+ str(np.mean(liste)))"
   ]
  },
  {
   "cell_type": "markdown",
   "metadata": {},
   "source": [
    "sklearn"
   ]
  },
  {
   "cell_type": "code",
   "execution_count": 88,
   "metadata": {},
   "outputs": [
    {
     "name": "stdout",
     "output_type": "stream",
     "text": [
      "Time:11.836426973342896\n",
      "Mean Time:0.0011836426973342896\n"
     ]
    }
   ],
   "source": [
    "import sklearn.cluster as sk\n",
    "sk_kmeans = sk.KMeans(init=\"random\",n_init=10)\n",
    "liste = []\n",
    "for i in range(10000):\n",
    "    start = time.time()\n",
    "    sk_kmeans.fit(X)\n",
    "    end = time.time()\n",
    "    liste.append(end-start)\n",
    "    #print(end-start)\n",
    "print( \"Time:\"+ str(np.sum(liste)))\n",
    "print( \"Mean Time:\"+ str(np.mean(liste)))"
   ]
  },
  {
   "cell_type": "code",
   "execution_count": 97,
   "metadata": {},
   "outputs": [
    {
     "name": "stdout",
     "output_type": "stream",
     "text": [
      "9.88 ms ± 92 µs per loop (mean ± std. dev. of 7 runs, 100 loops each)\n"
     ]
    }
   ],
   "source": [
    "%%timeit\n",
    "import sklearn.cluster as sk\n",
    "from WWDK_Package import Cluster\n",
    "sk_kmeans = sk.KMeans(init=\"random\",n_init=10)\n",
    "sk_kmeans.fit(X)"
   ]
  },
  {
   "cell_type": "code",
   "execution_count": 95,
   "metadata": {},
   "outputs": [
    {
     "name": "stdout",
     "output_type": "stream",
     "text": [
      "17.2 ms ± 87.2 µs per loop (mean ± std. dev. of 7 runs, 100 loops each)\n"
     ]
    }
   ],
   "source": [
    "%%timeit\n",
    "k_means(X,8,300)"
   ]
  },
  {
   "cell_type": "code",
   "execution_count": 102,
   "metadata": {},
   "outputs": [
    {
     "name": "stdout",
     "output_type": "stream",
     "text": [
      "365 ms ± 35.3 ms per loop (mean ± std. dev. of 7 runs, 1 loop each)\n"
     ]
    }
   ],
   "source": [
    "%%timeit\n",
    "\n",
    "lib = Cluster.Kmeans(inits=10, method=\"rng\")\n",
    "lib.fit(X)"
   ]
  },
  {
   "cell_type": "code",
   "execution_count": 7,
   "metadata": {},
   "outputs": [],
   "source": [
    "from WWDK_Package import Cluster as cl\n",
    "from WWDK_Package import Utilities as u\n",
    "from WWDK_Package import Data as d\n",
    "\n",
    "bla = cl.Kmeans()"
   ]
  },
  {
   "cell_type": "code",
   "execution_count": 5,
   "metadata": {},
   "outputs": [
    {
     "data": {
      "text/plain": [
       "array([[ 3.19596126, 12.97369769, 19.93107225,  7.92158327,  4.55972383,\n",
       "         6.7759816 ,  0.95199605,  8.75084469],\n",
       "       [ 8.08873307,  8.02539909, 13.43478644,  0.12622525,  3.58885883,\n",
       "         3.98366879,  7.58694875,  4.09151057],\n",
       "       [15.1672224 ,  0.53191334, 18.8583758 ,  8.63457386, 10.77746368,\n",
       "        12.44505715, 13.60247172,  5.02476249],\n",
       "       [10.06758235,  4.810574  , 15.88897341,  3.46069339,  5.52137027,\n",
       "         7.14149489,  8.81924202,  0.85845568],\n",
       "       [ 8.61149419,  8.06318847, 12.82915327,  0.77248717,  4.19529813,\n",
       "         4.20130794,  8.21074371,  4.39881831],\n",
       "       [ 7.3197931 ,  8.62888215, 13.63801155,  0.65222373,  2.87205904,\n",
       "         3.30243402,  6.8903377 ,  4.50130084],\n",
       "       [10.14902355,  4.49717645, 16.9933053 ,  4.31817154,  5.78197823,\n",
       "         7.7754224 ,  8.67859104,  0.25514666],\n",
       "       [18.22107541, 18.43460971,  0.30053618, 13.47880817, 15.78390864,\n",
       "        13.25139618, 19.21480789, 16.7045017 ],\n",
       "       [ 7.8203754 ,  8.60801942, 13.06646459,  0.53309165,  3.46400518,\n",
       "         3.46296606,  7.48556037,  4.67831037],\n",
       "       [17.75886967, 18.20670732,  0.36749785, 13.10285695, 15.36134577,\n",
       "        12.80683262, 18.76851333, 16.38459172],\n",
       "       [ 5.02483133,  9.98104412, 15.36874197,  3.03217408,  0.44175115,\n",
       "         2.85012832,  4.46335352,  5.50553299],\n",
       "       [ 8.1569925 ,  7.93948127, 13.46036732,  0.20515424,  3.64477849,\n",
       "         4.07082634,  7.63675988,  4.01797043],\n",
       "       [ 1.98094093, 12.8732072 , 18.30163224,  6.84559802,  3.37676669,\n",
       "         5.15299494,  0.81933969,  8.45678491],\n",
       "       [ 8.28967001,  7.56284209, 13.78524379,  0.55925028,  3.71171513,\n",
       "         4.4019536 ,  7.65401516,  3.60523726],\n",
       "       [17.52776301, 18.03392921,  0.59231995, 12.88214945, 15.13086479,\n",
       "        12.57435446, 18.5360003 , 16.1798479 ],\n",
       "       [ 2.19525496, 13.39579543, 19.27861135,  7.74715581,  4.29013519,\n",
       "         6.13820594,  0.30549065,  9.05602442],\n",
       "       [ 1.12098414, 15.75980382, 18.44333967,  8.95149206,  5.69911914,\n",
       "         6.02387342,  3.27233814, 11.2849661 ],\n",
       "       [18.56271582, 18.94734418,  0.48252805, 13.94435006, 16.2043539 ,\n",
       "        13.63738619, 19.59672991, 17.19975554],\n",
       "       [ 6.56558839,  9.17945571, 13.96278067,  1.40367254,  2.16927993,\n",
       "         2.76089859,  6.18931538,  4.90902867],\n",
       "       [ 0.97944395, 14.31876168, 17.11289854,  7.29263016,  4.12929598,\n",
       "         4.39779097,  2.86452439,  9.82561763],\n",
       "       [15.47305271,  0.89910183, 18.596496  ,  8.75020705, 11.03259293,\n",
       "        12.5908755 , 13.95976058,  5.30374948],\n",
       "       [ 0.97160292, 14.05584744, 18.58769654,  7.78416274,  4.34404404,\n",
       "         5.57917195,  1.36713274,  9.62577718],\n",
       "       [14.6126504 ,  0.42631033, 18.14633089,  7.91879793, 10.16738394,\n",
       "        11.74774753, 13.11735555,  4.44132863],\n",
       "       [ 9.31589293,  5.32987217, 17.10488822,  4.02789824,  5.03053187,\n",
       "         7.21650569,  7.81013888,  0.99447347],\n",
       "       [ 0.31694692, 14.89191046, 18.00313568,  8.11008699,  4.82946852,\n",
       "         5.3295663 ,  2.64349449, 10.41426473],\n",
       "       [ 0.92647464, 15.39421111, 17.87507098,  8.44368225,  5.25498745,\n",
       "         5.44503968,  3.24832764, 10.90740655],\n",
       "       [ 4.29916721, 10.3575066 , 16.68283775,  4.23273272,  0.96185785,\n",
       "         3.86483382,  3.26451923,  5.87646173],\n",
       "       [18.37524384, 19.0413081 ,  0.50184976, 13.89686613, 16.09392591,\n",
       "        13.49154409, 19.44443028, 17.21163805],\n",
       "       [ 9.4955978 ,  5.17067414, 16.61895757,  3.69537032,  5.08599375,\n",
       "         7.07552847,  8.09396384,  0.67778971],\n",
       "       [14.54142185,  0.3557621 , 18.19343273,  7.88638767, 10.10571164,\n",
       "        11.70882302, 13.03600898,  4.37241866],\n",
       "       [ 8.57575258,  7.79509498, 13.16789712,  0.61793862,  4.08514224,\n",
       "         4.343272  ,  8.08128916,  4.05793283],\n",
       "       [ 4.85015811, 12.70450866, 13.35655166,  4.68577798,  3.40727869,\n",
       "         0.82002594,  5.80555443,  8.40835189],\n",
       "       [ 4.67760125, 12.39469082, 13.63364281,  4.4325708 ,  2.99471819,\n",
       "         0.69046286,  5.4955167 ,  8.06694413],\n",
       "       [13.8716102 ,  0.94341246, 18.71433868,  7.66239635,  9.55356805,\n",
       "        11.39032714, 12.25946632,  3.808028  ],\n",
       "       [18.13776727, 18.64567483,  0.10456339, 13.55016052, 15.78817641,\n",
       "        13.21433612, 19.17305318, 16.83744474],\n",
       "       [ 7.87563658,  7.79008088, 14.01436246,  0.5548292 ,  3.28712472,\n",
       "         4.13419395,  7.22652766,  3.68322662],\n",
       "       [14.71130137,  0.58864061, 19.10104566,  8.42423793, 10.38844819,\n",
       "        12.18422776, 13.08951573,  4.63770543],\n",
       "       [ 0.64408669, 15.19721843, 18.61231913,  8.60324122,  5.25905556,\n",
       "         5.92629559,  2.56027883, 10.73982228],\n",
       "       [10.11829958,  4.73129146, 15.98168558,  3.55881208,  5.58276573,\n",
       "         7.22993405,  8.85059319,  0.76710878],\n",
       "       [ 4.32880313, 10.51108581, 15.90140468,  3.77743093,  0.31386202,\n",
       "         3.05697472,  3.72708606,  6.01749146],\n",
       "       [ 5.77622787, 11.45896746, 12.89797367,  3.37267427,  3.00053321,\n",
       "         0.56092549,  6.27502916,  7.2620249 ],\n",
       "       [17.5127767 , 18.18920707,  0.58120494, 12.96162789, 15.16988454,\n",
       "        12.58847608, 18.5466797 , 16.29348856],\n",
       "       [10.45096855,  4.40418715, 16.06252805,  3.83473342,  5.91853605,\n",
       "         7.54175259,  9.16726086,  0.78302274],\n",
       "       [18.80262723, 19.04648253,  0.71050549, 14.12778737, 16.41637961,\n",
       "        13.86376436, 19.82484811, 17.35057038],\n",
       "       [11.29409712,  3.38743788, 16.95548484,  4.96664041,  6.8592745 ,\n",
       "         8.64136946,  9.85580335,  1.1214883 ],\n",
       "       [ 5.36437574, 12.03323737, 13.05159456,  3.97092472,  3.15470396,\n",
       "         0.14786822,  6.06671652,  7.79131397],\n",
       "       [ 5.27659391, 12.85375346, 12.88771335,  4.77297834,  3.81757669,\n",
       "         0.95641113,  6.29025499,  8.61917798],\n",
       "       [ 5.12388588,  9.75839178, 15.62703715,  3.06747124,  0.49660638,\n",
       "         3.1866132 ,  4.40340885,  5.27130248],\n",
       "       [ 5.28478774, 11.49026795, 13.41466712,  3.49084584,  2.57528794,\n",
       "         0.48158043,  5.74914646,  7.20746052],\n",
       "       [18.89288065, 18.76626194,  0.92200634, 14.02681372, 16.39739874,\n",
       "        13.89767208, 19.86239706, 17.16990539],\n",
       "       [ 0.0632922 , 14.58667154, 18.09727318,  7.92353416,  4.58977472,\n",
       "         5.29682224,  2.26813285, 10.11714808],\n",
       "       [ 6.28578977, 11.22575429, 12.4939706 ,  3.10901135,  3.29282186,\n",
       "         1.04502258,  6.73193631,  7.11947407],\n",
       "       [ 2.92276009, 12.22992546, 18.77487407,  6.75815541,  3.36577271,\n",
       "         5.63364679,  0.86439377,  7.88920121],\n",
       "       [ 4.59543764, 10.35055501, 15.58950234,  3.45327453,  0.17029686,\n",
       "         2.84133167,  4.06916736,  5.86448597],\n",
       "       [ 5.94079173,  8.83273887, 15.85010034,  2.73376278,  1.41780806,\n",
       "         3.93395689,  4.9478116 ,  4.34022793],\n",
       "       [ 3.03728532, 13.063141  , 19.84897299,  7.91508046,  4.53169458,\n",
       "         6.69203619,  0.81464096,  8.82062921],\n",
       "       [10.71181906,  3.93168169, 17.21588603,  4.78743195,  6.35508648,\n",
       "         8.31683978,  9.21165917,  0.65355788],\n",
       "       [ 8.82891956,  7.8784751 , 12.81868245,  0.9331102 ,  4.38928953,\n",
       "         4.43095889,  8.3988783 ,  4.29453733],\n",
       "       [ 0.14433487, 14.7646328 , 18.21053639,  8.10602884,  4.77457722,\n",
       "         5.45003525,  2.36291183, 10.29694187],\n",
       "       [18.34267366, 19.47066942,  1.07001784, 14.12390227, 16.21068932,\n",
       "        13.54667453, 19.48040136, 17.52749022],\n",
       "       [ 0.97051316, 15.61375998, 18.48981977,  8.8598723 ,  5.58168863,\n",
       "         5.99481014,  3.08563499, 11.1429755 ],\n",
       "       [ 5.06041213,  9.67128556, 16.11520273,  3.39659669,  0.70579429,\n",
       "         3.64380881,  4.12326801,  5.17669587],\n",
       "       [14.28133779,  0.39946304, 18.24227333,  7.71806924,  9.8667562 ,\n",
       "        11.52244537, 12.75633125,  4.12099486],\n",
       "       [ 2.97349322, 12.60617202, 19.33223869,  7.33222248,  3.95185887,\n",
       "         6.18118262,  0.65490934,  8.31897185],\n",
       "       [ 4.54585727, 10.51580471, 15.37981931,  3.44209523,  0.43916233,\n",
       "         2.5770855 ,  4.16066791,  6.03871933],\n",
       "       [ 2.32078218, 14.23410516, 20.00370531,  8.67268025,  5.21076941,\n",
       "         6.91133034,  1.22519634,  9.93319296],\n",
       "       [ 9.49396091,  5.21043363, 16.37144458,  3.49188237,  5.03598217,\n",
       "         6.93702388,  8.14530458,  0.73738496],\n",
       "       [ 7.61248742,  8.33860697, 13.62650748,  0.35124664,  3.12282667,\n",
       "         3.60576301,  7.13000604,  4.2626335 ],\n",
       "       [ 4.24964519, 11.61487349, 14.55455638,  3.9645729 ,  1.81155168,\n",
       "         1.41899004,  4.59536571,  7.19421597],\n",
       "       [14.27830296,  0.36878306, 18.34627237,  7.76387494,  9.87766794,\n",
       "        11.55974287, 12.73840842,  4.12661878],\n",
       "       [18.11979141, 18.52266557,  0.06345   , 13.4723136 , 15.73522888,\n",
       "        13.17726065, 19.13823685, 16.73866872],\n",
       "       [10.62104821,  4.12893497, 16.44467138,  4.20100125,  6.13589361,\n",
       "         7.86550753,  9.26402647,  0.5882784 ],\n",
       "       [ 1.94331046, 13.9231607 , 19.46372312,  8.17475396,  4.70737931,\n",
       "         6.36551646,  0.82942334,  9.57701067],\n",
       "       [ 5.78882303, 12.18539397, 12.55364613,  4.07658221,  3.62229026,\n",
       "         0.63610208,  6.56365147,  8.0198232 ],\n",
       "       [14.02875344,  0.81049511, 17.81567637,  7.33960946,  9.57477064,\n",
       "        11.16106945, 12.55329819,  3.8560865 ],\n",
       "       [ 1.58840174, 13.06702955, 17.38795971,  6.47098706,  3.07603722,\n",
       "         4.29037547,  1.82603686,  8.5900764 ],\n",
       "       [ 4.30578102, 10.66353182, 15.61688454,  3.70338193,  0.43376501,\n",
       "         2.72955989,  3.88461666,  6.17665976],\n",
       "       [ 1.09381239, 14.29425004, 18.91222996,  8.11333339,  4.66503839,\n",
       "         5.9209924 ,  1.40876402,  9.88082291],\n",
       "       [ 9.59095298,  5.05974249, 17.23928856,  4.2523707 ,  5.31880236,\n",
       "         7.49345843,  8.06172586,  0.83838082],\n",
       "       [16.90821006, 17.30013011,  1.33636336, 12.13555358, 14.42318404,\n",
       "        11.90431805, 17.86892378, 15.42203223],\n",
       "       [ 2.34424073, 12.4257447 , 18.05810837,  6.41682031,  2.95122845,\n",
       "         4.90107689,  1.10696891,  8.00223402],\n",
       "       [10.99008647,  3.81267995, 18.21803741,  5.65579111,  6.83330069,\n",
       "         9.02601696,  9.32282551,  1.54572419],\n",
       "       [ 0.21779122, 14.55447945, 17.87468146,  7.79978967,  4.50037997,\n",
       "         5.10244101,  2.41233749, 10.07686372],\n",
       "       [ 3.62436292, 11.9050434 , 15.1426316 ,  4.46761061,  1.78544323,\n",
       "         1.98546473,  3.9827066 ,  7.44183344],\n",
       "       [ 7.78360899,  7.87321573, 14.02311045,  0.55303309,  3.19883007,\n",
       "         4.04911037,  7.14493393,  3.74688479],\n",
       "       [ 1.9814716 , 13.19079361, 18.80647354,  7.34210879,  3.8760132 ,\n",
       "         5.66544162,  0.38759766,  8.80957953],\n",
       "       [ 5.47701967, 11.16611608, 13.40759191,  3.16467667,  2.44529017,\n",
       "         0.77260007,  5.81855776,  6.89420337],\n",
       "       [ 2.31985499, 12.70162299, 18.58444809,  6.90948698,  3.45396666,\n",
       "         5.42758806,  0.57354197,  8.3178325 ],\n",
       "       [ 4.44066959, 10.36066586, 15.98281801,  3.72953903,  0.28078672,\n",
       "         3.19514707,  3.75015965,  5.86617368],\n",
       "       [14.40728437,  0.66942828, 19.00819145,  8.1715881 , 10.09395442,\n",
       "        11.91587237, 12.78193113,  4.34730294],\n",
       "       [ 5.38884429, 10.20410875, 14.39311711,  2.60256124,  1.33243093,\n",
       "         2.01850203,  5.1992149 ,  5.81633114],\n",
       "       [ 4.30327685, 10.34037419, 16.9199966 ,  4.40054639,  1.19816312,\n",
       "         4.10368098,  3.13938312,  5.8723865 ],\n",
       "       [ 1.81174096, 13.65094315, 19.11028218,  7.8042482 ,  4.33579193,\n",
       "         5.99915263,  0.60848856,  9.28054238],\n",
       "       [ 0.67875686, 13.96984071, 17.77434283,  7.31946496,  3.96659041,\n",
       "         4.83544197,  1.98082584,  9.49646561],\n",
       "       [15.46777391,  0.89847162, 18.58415011,  8.74125898, 11.0262037 ,\n",
       "        12.58234358, 13.95586217,  5.29815661],\n",
       "       [ 4.95271705, 12.71423163, 13.24866072,  4.67858458,  3.48212788,\n",
       "         0.80533019,  5.91343892,  8.4319586 ],\n",
       "       [ 6.10823002, 10.92147283, 12.87367033,  2.82473251,  2.87681998,\n",
       "         1.09101371,  6.42226933,  6.75703653],\n",
       "       [ 5.41979836, 12.356868  , 12.87251155,  4.27411695,  3.48529081,\n",
       "         0.50194292,  6.25034784,  8.13437421],\n",
       "       [ 8.07912941,  8.04748988, 13.41907602,  0.11619264,  3.58380995,\n",
       "         3.96393319,  7.5837432 ,  4.11434786],\n",
       "       [14.94930423,  0.49569027, 19.03060896,  8.55646793, 10.59817238,\n",
       "        12.34018952, 13.34976013,  4.84234199]])"
      ]
     },
     "execution_count": 5,
     "metadata": {},
     "output_type": "execute_result"
    }
   ],
   "source": [
    "bla.fit_transform(X)"
   ]
  },
  {
   "cell_type": "code",
   "execution_count": 6,
   "metadata": {},
   "outputs": [
    {
     "name": "stderr",
     "output_type": "stream",
     "text": [
      "/Users/benedict/Desktop/Programmieren/Bioinfoprojekt/project-04-group-04/WWDK_Package/Cluster.py:80: RuntimeWarning: Mean of empty slice.\n",
      "  if np.any(np.isnan(self._data[position].mean(axis=0)) == True):\n",
      "/Users/benedict/Desktop/Programmieren/Bioinfoprojekt/project-04-group-04/WWDK_Package/Cluster.py:80: RuntimeWarning: Mean of empty slice.\n",
      "  if np.any(np.isnan(self._data[position].mean(axis=0)) == True):\n",
      "/Users/benedict/Desktop/Programmieren/Bioinfoprojekt/project-04-group-04/WWDK_Package/Cluster.py:80: RuntimeWarning: Mean of empty slice.\n",
      "  if np.any(np.isnan(self._data[position].mean(axis=0)) == True):\n",
      "/Users/benedict/Desktop/Programmieren/Bioinfoprojekt/project-04-group-04/WWDK_Package/Cluster.py:80: RuntimeWarning: Mean of empty slice.\n",
      "  if np.any(np.isnan(self._data[position].mean(axis=0)) == True):\n"
     ]
    },
    {
     "data": {
      "image/png": "[encoded data removed]",
      "text/plain": [
       "<Figure size 432x288 with 1 Axes>"
      ]
     },
     "metadata": {
      "needs_background": "light"
     },
     "output_type": "display_data"
    }
   ],
   "source": [
    "np.seterr(all=\"ignore\")\n",
    "u.time_k_plot(X,10,5)"
   ]
  },
  {
   "cell_type": "code",
   "execution_count": 8,
   "metadata": {},
   "outputs": [],
   "source": [
    "from WWDK_Package import Cluster as cl\n",
    "from WWDK_Package import Utilities as u\n",
    "from WWDK_Package import Data as d\n",
    "pbmc = d.Loader(\"http://cf.10xgenomics.com/samples/cell-exp/1.1.0/pbmc3k/pbmc3k_filtered_gene_bc_matrices.tar.gz\")"
   ]
  },
  {
   "cell_type": "code",
   "execution_count": 10,
   "metadata": {},
   "outputs": [],
   "source": [
    "test_pbmc = pbmc.process()[0]"
   ]
  },
  {
   "cell_type": "code",
   "execution_count": 11,
   "metadata": {},
   "outputs": [
    {
     "name": "stderr",
     "output_type": "stream",
     "text": [
      "/Users/benedict/Desktop/Programmieren/Bioinfoprojekt/project-04-group-04/WWDK_Package/Cluster.py:80: RuntimeWarning: Mean of empty slice.\n",
      "  if np.any(np.isnan(self._data[position].mean(axis=0)) == True):\n"
     ]
    },
    {
     "data": {
      "image/png": "[encoded data removed]",
      "text/plain": [
       "<Figure size 432x288 with 1 Axes>"
      ]
     },
     "metadata": {
      "needs_background": "light"
     },
     "output_type": "display_data"
    }
   ],
   "source": [
    "u.elbow_plot(test_pbmc, 10)"
   ]
  },
  {
   "cell_type": "code",
   "execution_count": null,
   "metadata": {},
   "outputs": [],
   "source": []
  }
 ],
 "metadata": {
  "kernelspec": {
   "display_name": "Python 3",
   "language": "python",
   "name": "python3"
  },
  "language_info": {
   "codemirror_mode": {
    "name": "ipython",
    "version": 3
   },
   "file_extension": ".py",
   "mimetype": "text/x-python",
   "name": "python",
   "nbconvert_exporter": "python",
   "pygments_lexer": "ipython3",
   "version": "3.6.8"
  }
 },
 "nbformat": 4,
 "nbformat_minor": 2
}
